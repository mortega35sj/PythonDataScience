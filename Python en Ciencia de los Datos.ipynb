{
 "cells": [
  {
   "cell_type": "markdown",
   "metadata": {
    "slideshow": {
     "slide_type": "slide"
    }
   },
   "source": [
    "# Python en Ciencia de los Datos \n",
    "## Autores: \n",
    "         María Isabel Masanet\n",
    "         Laura Viviana Gutiérrez\n",
    "         Manuel Oscar Ortega\n",
    "## Proyecto: VISUALIZACIÓN Y DEEP LEARNING EN CIENCIA DE DATOS\n",
    "###  Septiembre, 2018"
   ]
  },
  {
   "cell_type": "markdown",
   "metadata": {},
   "source": [
    "# Empecemos por el principio....\n",
    "Python es un lenguaje de programación, interpretado, con tipado dinámico, que combina múltiples paradigmas."
   ]
  },
  {
   "cell_type": "markdown",
   "metadata": {
    "slideshow": {
     "slide_type": "slide"
    }
   },
   "source": [
    "## Paradigma imperativo\n",
    "Los elementos básicos presentes en el lenguaje son: secuencia, selección e iteración, definición de funciones."
   ]
  },
  {
   "cell_type": "code",
   "execution_count": 6,
   "metadata": {},
   "outputs": [],
   "source": [
    "def imprime(texto, veces=1):\n",
    "    print(texto*veces)"
   ]
  },
  {
   "cell_type": "markdown",
   "metadata": {},
   "source": [
    "Ahora probamos la función:"
   ]
  },
  {
   "cell_type": "code",
   "execution_count": 7,
   "metadata": {},
   "outputs": [
    {
     "name": "stdout",
     "output_type": "stream",
     "text": [
      "holaholaholaholaholaholaholaholaholaholaholaholaholaholaholaholaholaholaholaholaholaholaholaholaholaholaholaholaholaholaholaholaholaholaholaholaholaholaholaholaholaholaholaholaholaholaholaholaholahola\n"
     ]
    }
   ],
   "source": [
    "imprime(\"hola\", 50)"
   ]
  },
  {
   "cell_type": "markdown",
   "metadata": {},
   "source": [
    "Imprime un el texto hola 50 veces:\n",
    "holaholaholaholaholaholaholaholaholaholaholaholaholaholaholaholaholaholaholaholaholaholaholaholaholaholaholaholaholaholaholaholaholaholaholaholaholaholaholaholaholaholaholaholaholaholaholaholaholahola"
   ]
  },
  {
   "cell_type": "markdown",
   "metadata": {},
   "source": [
    "Como es un lenguaje con tipado dinámico, si ahora ejecutamos la función imprime con los parámetros 3 y 4, el resultado será la multipliación de ambos números:"
   ]
  },
  {
   "cell_type": "code",
   "execution_count": 8,
   "metadata": {},
   "outputs": [
    {
     "name": "stdout",
     "output_type": "stream",
     "text": [
      "12\n"
     ]
    }
   ],
   "source": [
    "imprime(3,4)"
   ]
  },
  {
   "cell_type": "markdown",
   "metadata": {},
   "source": [
    "Ejemplo de búsqueda binaria:"
   ]
  },
  {
   "cell_type": "code",
   "execution_count": 10,
   "metadata": {},
   "outputs": [],
   "source": [
    "def busqueda_binaria(array, valor):\n",
    "    ary = array\n",
    "    a = 0\n",
    "    b = len(array)\n",
    " \n",
    "    while a < b:\n",
    "        m = (a + b) // 2\n",
    " \n",
    "        if array[m] == valor:\n",
    "            return m\n",
    "        elif array[m] < valor:\n",
    "            a = m + 1\n",
    "        else:\n",
    "            b = m\n",
    " \n",
    "    return -1"
   ]
  },
  {
   "cell_type": "code",
   "execution_count": 11,
   "metadata": {},
   "outputs": [],
   "source": [
    "x1 = [0,1,2,3,4,5,6,7]\n",
    "x2 = [1,4,8,12,41]\n",
    "x3 = [0,1,2,4,8,16,32]"
   ]
  },
  {
   "cell_type": "code",
   "execution_count": 12,
   "metadata": {},
   "outputs": [
    {
     "data": {
      "text/plain": [
       "3"
      ]
     },
     "execution_count": 12,
     "metadata": {},
     "output_type": "execute_result"
    }
   ],
   "source": [
    "busqueda_binaria(x1,3)"
   ]
  },
  {
   "cell_type": "code",
   "execution_count": 13,
   "metadata": {},
   "outputs": [
    {
     "data": {
      "text/plain": [
       "0"
      ]
     },
     "execution_count": 13,
     "metadata": {},
     "output_type": "execute_result"
    }
   ],
   "source": [
    "busqueda_binaria(x2,1)"
   ]
  },
  {
   "cell_type": "code",
   "execution_count": 14,
   "metadata": {},
   "outputs": [
    {
     "data": {
      "text/plain": [
       "-1"
      ]
     },
     "execution_count": 14,
     "metadata": {},
     "output_type": "execute_result"
    }
   ],
   "source": [
    "busqueda_binaria(x3,11)"
   ]
  },
  {
   "cell_type": "markdown",
   "metadata": {},
   "source": [
    "## Paradigma Orientado a Objetos\n",
    "- Adminte la definición de clases, objetos, sobrecarga de operadores, encapsulamiento, herencia simple y múltiple, variables de clase y de instancia, polimorfismo basado en herencia (denominado polimorfismo de subtipo). \n",
    "### Clase Punto"
   ]
  },
  {
   "cell_type": "code",
   "execution_count": 16,
   "metadata": {},
   "outputs": [],
   "source": [
    "class Punto:\n",
    "    def __init__(self, x = 0, y = 0):\n",
    "        #los atributos x e y son públicos\n",
    "        #para convertirlos en protegidos se utiliza _ \n",
    "        #para convertirlos en privados se utiliza __\n",
    "        self.x = x\n",
    "        self.y= y\n",
    "    \n",
    "    def __str__(self):\n",
    "        return \"(\"+str(self.x)+\", \"+str(self.y)+\")\"\n",
    "    \n",
    "    def __add__(self, otro):\n",
    "        #sobrecarga operador suma\n",
    "        return Punto(self.x+otro.x, self.y+otro.y)\n",
    "    \n",
    "    def __sub__(self, otro):\n",
    "        #sobecarga operador resta\n",
    "        return Punto(self.x-otro.x, self.y-otro.y)\n",
    "    \n",
    "    def __mul__(self, otro):\n",
    "        #sobrecarga operador multiplicación\n",
    "        if(type(otro) == type(5)):\n",
    "            otro = Punto(otro,1)\n",
    "        \n",
    "        return Punto(self.x*otro.x, self.y*otro.y)\n",
    "    \n",
    "    __rmul__ = __mul__\n",
    "         #sobrecarga operador multiplicación por derecha "
   ]
  },
  {
   "cell_type": "markdown",
   "metadata": {},
   "source": [
    "Ahora probamos la clase creando objetos:"
   ]
  },
  {
   "cell_type": "code",
   "execution_count": 17,
   "metadata": {},
   "outputs": [
    {
     "name": "stdout",
     "output_type": "stream",
     "text": [
      "(4, 5)\n",
      "(3, 7)\n",
      "(7, 12)\n",
      "(12, 35)\n",
      "(24, 35)\n",
      "(8, 5)\n"
     ]
    }
   ],
   "source": [
    "p = Punto(4,5)\n",
    "q = Punto(3,7)\n",
    "r = p*q\n",
    "print(p)\n",
    "print(q)\n",
    "print(p+q)\n",
    "print(r)\n",
    "print(2*r)\n",
    "print(p*2)"
   ]
  },
  {
   "cell_type": "markdown",
   "metadata": {},
   "source": [
    "## Paradigma Funcional\n",
    "Python implementa solo dos elementos del paradigma funcional\n",
    "- Funciones de orden superior\n",
    "- Funciones lambda"
   ]
  },
  {
   "cell_type": "markdown",
   "metadata": {},
   "source": [
    "### Funciones de orden superior\n",
    "El concepto de funciones de orden superior se refiere al uso de funciones como si se tratara de un valor, posibilitando el pasar funciones como parámetros de otras funciones o devolver funciones como valor de retorno."
   ]
  },
  {
   "cell_type": "code",
   "execution_count": null,
   "metadata": {},
   "outputs": [],
   "source": [
    "def saludar(lang):\n",
    "    def saludar_es():\n",
    "        print(\"Hola\")\n",
    "        \n",
    "    def saludar_en():\n",
    "        print(\"Hi\")\n",
    "        \n",
    "    def saludar_fr():\n",
    "        print(\"Salut\")\n",
    "    lang_func = {\"es\": saludar_es, \"en\": saludar_en, \"fr\": saludar_fr}\n",
    "    return lang_func[lang]"
   ]
  },
  {
   "cell_type": "code",
   "execution_count": null,
   "metadata": {},
   "outputs": [],
   "source": [
    "f = saludar(\"es\")\n",
    "f()"
   ]
  },
  {
   "cell_type": "markdown",
   "metadata": {},
   "source": [
    "### Funciones lambda\n",
    "El operador lambda sirve para crear funciones anónimas en línea. Al ser funciones anónimas, es decir, sin nombre, estas no podrán ser referenciadas más tarde. \n",
    "Se construyen mediante el operador lambda , los parámetros de la función separados por comas , dos puntos ( : ) y el código de la función.\n"
   ]
  },
  {
   "cell_type": "code",
   "execution_count": null,
   "metadata": {},
   "outputs": [],
   "source": [
    " f = lambda x, y: x + y    "
   ]
  },
  {
   "cell_type": "code",
   "execution_count": null,
   "metadata": {},
   "outputs": [],
   "source": [
    "print(f(4,5))"
   ]
  },
  {
   "cell_type": "markdown",
   "metadata": {},
   "source": [
    "Entre otras funciones incluidas en el lenguaje Ptython, la función filter(funcion, iterable) construye una lista con aquellos elementos en los cuales funcion(iterable[i]) retorna True Por lo tanto, si se quieren filtrar los números pares de una lista, podríamos utilizar:"
   ]
  },
  {
   "cell_type": "code",
   "execution_count": null,
   "metadata": {},
   "outputs": [],
   "source": [
    "l = [1, 2, 3, 4, 5, 6, 7]\n",
    "l2 = filter(lambda n: n % 2.0 == 0, l)\n",
    "#recorremos la lista de numeros pares para imprimir sus elementos\n",
    "for elemento in l2:\n",
    "    print(elemento)"
   ]
  },
  {
   "cell_type": "markdown",
   "metadata": {},
   "source": [
    "# Comprendiendo los Tipos de Datos en Python\n",
    "## Un entero en Python es más que un entero\n",
    "El estándar de Python está escrito en lenguaje C. Cada objeto de Python es una estructura del lenguaje C, que no solo contiene el valor, sino otra información también. Así, si definimos un entero en Python, ``x = 10000``, ``x`` no es una celda de memoria que guarda un entero, es un puntero a una estructura que contiene varios valores.\n",
    "El código fuente de Python 3.4, para la definición de un entero largo es el siguiente:\n",
    "\n",
    "```C\n",
    "struct _longobject {\n",
    "    long ob_refcnt;\n",
    "    PyTypeObject *ob_type;\n",
    "    size_t ob_size;\n",
    "    long ob_digit[1];\n",
    "};\n",
    "```\n",
    "Los cuatro elementos que contiene corresponden a:\n",
    "\n",
    "- ``ob_refcnt``, una referencia a un contador que ayuda a Python a administrar la memoria (obtención y liberación).\n",
    "- ``ob_type``, codifica el tipo de datos de de la variable.\n",
    "- ``ob_size``, especifica el tamaño de los miembros de la estructura.\n",
    "- ``ob_digit``, contiene el valor actual del entero.\n",
    "Esto significa que hay una sobrecarga al almacenar un entero en Python si se lo compara con un lenguaje como C, esta situación se ilustra en la siguiente figura: "
   ]
  },
  {
   "cell_type": "markdown",
   "metadata": {},
   "source": [
    "![Integer Memory Layout](figures/cint_vs_pyint.png)"
   ]
  },
  {
   "cell_type": "markdown",
   "metadata": {},
   "source": [
    "Donde ``PyObject_HEAD`` es la parte de estructura que contine la referencia count, el código de tipo de datos, y los otros elementos vistos anteriormente.\n",
    "En C un entero es una etiqueta a una posición de memoria cuyos bytes codifican el valor del entero.\n",
    "En Python un entero es un puntero a una posición de memoria conteniendo toda la información de un objeto Python que representa al tipo de datos definido por el usuario, incluyendo los bytes que contienen el valor del entero.\n",
    "\n",
    "Notice the difference here: a C integer is essentially a label for a position in memory whose bytes encode an integer value.\n",
    "A Python integer is a pointer to a position in memory containing all the Python object information, including the bytes that contain the integer value."
   ]
  },
  {
   "cell_type": "markdown",
   "metadata": {},
   "source": [
    "## Una lista en Python es más que una lista\n",
    "Una lista en Python es una estructura de datos que puede almhacenar varios objetos Python. El contenedor estándar mutable multi-elemento en Python es la lista.\n",
    "Podemos crear una lista de diez valores enteros con la instrucción que sigue:"
   ]
  },
  {
   "cell_type": "code",
   "execution_count": null,
   "metadata": {},
   "outputs": [],
   "source": [
    "lista=list(range(10))\n",
    "print(lista)"
   ]
  },
  {
   "cell_type": "markdown",
   "metadata": {},
   "source": [
    "Para acceder a un elemento en particular usamos un subíndice que comienza en 0 para el primer elemento."
   ]
  },
  {
   "cell_type": "code",
   "execution_count": null,
   "metadata": {},
   "outputs": [],
   "source": [
    "for i in range(10):\n",
    "    print(lista[i])"
   ]
  },
  {
   "cell_type": "markdown",
   "metadata": {},
   "source": [
    "Las listas pueden crear enumerando los elementos, y como Python tiene tipado dinámico es posible crear listas heterogéneas:"
   ]
  },
  {
   "cell_type": "code",
   "execution_count": null,
   "metadata": {},
   "outputs": [],
   "source": [
    "elementos = ['a',11,True,\"cadena\",3.14]\n",
    "for x in elementos:\n",
    "    print(\"tipo de datos de x =\",type(x), \"valor de x=\",x)\n",
    "#otra forma de mostrar datos de la lista\n",
    "[type(item) for item in elementos]"
   ]
  },
  {
   "cell_type": "markdown",
   "metadata": {},
   "source": [
    "Esta flexibilidad tiene su costo: para permitir tipos de datos felxibles, cada item en la lista debe  contener información del tipo de datos, la referencia count y otra información que hace a cada item un objeto Python.\n",
    "En el caso en que todos los elementos de la lista sean del mismo tipo, gran parte de la información es redundante: esto se puede hacer mucho más eficiente guardando los datos en un arreglo de tipo de datos fijo.\n",
    "La diferencia entre una lista con tipo de datos dinámicos y un arreglo con tipo de datos fijo (al estilo NumPy), se muestra en la siguiente figura:"
   ]
  },
  {
   "cell_type": "markdown",
   "metadata": {},
   "source": [
    "![Array Memory Layout](figures/array_vs_list.png)"
   ]
  },
  {
   "cell_type": "markdown",
   "metadata": {},
   "source": [
    "A nivel de implementación, el arreglo contiene un puntero a bloque contiguo de datos.\n",
    "La lista Python, contiene un puntero a un bloque de punteros, cada uno de los cuales apunta a un objeto Python como los analizados previamente en el caso del tipo entero.\n",
    "La ventaja de la lista es la felxibilidad: porque cada elemento de la lista es una estructura que contiene dato e información del tipo de datos, por lo que la lista puede llenarse con los datos que se necesiten.\n",
    "Un arreglo de un tip de datos fijo, al estilo NumPy, sacrifica esta flexibilidas pero es mucho más eficiente a la hora de almacenar y manipular los datos."
   ]
  },
  {
   "cell_type": "markdown",
   "metadata": {},
   "source": [
    "## Arreglos de tipo de datos fijo en Python\n",
    "Python ofrece diferentes opciones para almacenar datos de manera eficiente, buffers de tipo de datos fijos. El módulo ``array`` (disponible desde la versión 3.3 de Python), puede usarse para crear un arreglo de datos homogéneos:"
   ]
  },
  {
   "cell_type": "code",
   "execution_count": null,
   "metadata": {},
   "outputs": [],
   "source": [
    "import array\n",
    "lista = list(range(10))\n",
    "#la letra 'i' es código que indica que el arreglo es de enteros\n",
    "arreglo = array.array('i',lista)\n",
    "print(arreglo)\n",
    "for i in range(10):\n",
    "    print(type(arreglo[i]),arreglo[i])"
   ]
  },
  {
   "cell_type": "markdown",
   "metadata": {},
   "source": [
    "## NumPy\n",
    "En Ciencia de Datos, es más usado el objeto ``ndarray`` del paquete NumPy. \n",
    "Mientras un objeto ``array`` de Pythton provee almacenamiento eficiente para un arreglo de datos homogéneos, NumPy agrega a esto operaciones eficientes sobre todo el conjunto de datos.\n",
    "\n",
    "### NumPy – Objeto Ndarray\n",
    "La clase más importante definida en NumPy es un arreglo n-dimensional, la clase a la que pertenecen los objetos es ``ndarray``, debe quedar claro que los objetos de esta clase, no son arreglos propiamente dicho.\n",
    "\n",
    "Este objeto arreglo es una colección de items todos del mismo tipo, que puede accederse usando un subíndice desde la posición 0 hasta la dimensión menos uno.\n",
    "\n",
    "Cada item del arreglo ndarray tiene el mismo tamaño en memoria, todos los ítems son del tipo descripto por el objeto tipo de dato (data-type), al objeto tipo de datos que determina el tipo escalar almacenado en el arrego, se lo denomina dtype. \n",
    "\n",
    "Se puede acceder a cualquier item del arreglo usando un subíndice, el elemento accedido es un tipo escalar de Python.\n",
    "\n",
    "El siguiente diagrama muestra la relación entre ndarray, el objeto tipo de datos (dtype) y el tipo de datos escalar del item:"
   ]
  },
  {
   "cell_type": "markdown",
   "metadata": {},
   "source": [
    "![ndarray estructura](figures/ndarray.png)"
   ]
  },
  {
   "cell_type": "markdown",
   "metadata": {},
   "source": [
    "Un arreglo ndarray se crea usando una función array de NumPy: ``numpy.array``.\n",
    "\n",
    "El constructor completo con parámetros por default tiene la siguiente cabecera:\n",
    "``numpy.array(object, dtype=None, copy=True, order=None, subok=False, ndmin=0)``\n",
    "### Descripción de los parámetros que toma el contructor array:\n",
    "``object`` Cualqueir objeto que exponga la inteface del método array y devuelva un arreglo, o cualquier secuencia.\n",
    "``dtype`` Tipo de datos del arreglo, es opcional\n",
    "``copy`` Opcional, por defecto (True), el objeto es copiado.\n",
    "``order`` C (mayor fila) o F (mayor columna) o A (cualquiera), es opcial, y por defecto vale None.\n",
    "``suok`` Por defecto, establece que el arreglo es de la clase base array, de otro modo es una subclase.\n",
    "``ndmin`` Determina el número mínimo de dimensiones del arreglo."
   ]
  },
  {
   "cell_type": "markdown",
   "metadata": {},
   "source": [
    "| Parámetro\t    | Descripción |\n",
    "|---------------|-------------|\n",
    "| ``object``    | Cualqueir objeto que exponga la inteface del método array y devuelva un arreglo, o cualquier secuencia |\n",
    "| ``dtype``     | Tipo de datos del arreglo, es opcional | \n",
    "| ``copy``      | Tipo de datos del arreglo, es opcional | \n",
    "| ``order``     | C (mayor fila) o F (mayor columna) o A (cualquiera), es opcial, y por defecto vale None| \n",
    "| ``subok``     | Por defecto, establece que el arreglo es de la clase base array, de otro modo es una subclase | \n",
    "| ``ndmin``     | Determina el número mínimo de dimensiones del arreglo |"
   ]
  },
  {
   "cell_type": "markdown",
   "metadata": {},
   "source": [
    "Para crear un ``ndarray`` lo primero que hacemos es importar la librearía ``numpy`` con el alias ``np``:"
   ]
  },
  {
   "cell_type": "code",
   "execution_count": 1,
   "metadata": {},
   "outputs": [],
   "source": [
    "import numpy as np"
   ]
  },
  {
   "cell_type": "markdown",
   "metadata": {},
   "source": [
    "## Creando arreglos a partir de listas\n",
    "Primero, usaremos ``np.array`` para crear arreglos a partir de listas Python:"
   ]
  },
  {
   "cell_type": "code",
   "execution_count": null,
   "metadata": {},
   "outputs": [],
   "source": [
    "#arreglo de de enteros\n",
    "arreglo = np.array([2,5,7,11,13,17])\n",
    "print(arreglo)"
   ]
  },
  {
   "cell_type": "markdown",
   "metadata": {},
   "source": [
    "Recordar que a diferencia de las listas de Ptyhon, lo arreglos de Numpy contienen datos homogéneos, todos del mismo tipo. Si los datos de la lista son heterogéneos, NumPy intentará hacer un upcast, en el siguiente ejemplo los enteros son forzados a punto flotante:"
   ]
  },
  {
   "cell_type": "code",
   "execution_count": null,
   "metadata": {},
   "outputs": [],
   "source": [
    "arreglo = np.array([2,3.14,5,7,11])\n",
    "print(arreglo)"
   ]
  },
  {
   "cell_type": "markdown",
   "metadata": {},
   "source": [
    "Podemos especificar el tipo de datos del arreglo al crearlo, usando la el parámetro ``dtype``:"
   ]
  },
  {
   "cell_type": "code",
   "execution_count": 2,
   "metadata": {},
   "outputs": [
    {
     "name": "stdout",
     "output_type": "stream",
     "text": [
      "[1. 2. 3. 4.]\n"
     ]
    }
   ],
   "source": [
    "arreglo = np.array([1, 2, 3, 4], dtype='float32')\n",
    "print(arreglo)"
   ]
  },
  {
   "cell_type": "markdown",
   "metadata": {},
   "source": [
    "Finalmente, como sucede con las listas, los arreglos de NumPy pueden ser multidimensionales; una forma de crearlos es a partir de una lista de listas:"
   ]
  },
  {
   "cell_type": "code",
   "execution_count": 3,
   "metadata": {},
   "outputs": [
    {
     "name": "stdout",
     "output_type": "stream",
     "text": [
      "[[1 2 3]\n",
      " [3 4 5]]\n",
      "(2, 3)\n"
     ]
    }
   ],
   "source": [
    "# Crea un arreglo bidimensional\n",
    "a = np.array([[1,2,3],[3,4,5]])\n",
    "print(a)      \n",
    "# array.shape es una propiedad que muestra las dimensiones del arreglo\n",
    "print(a.shape)"
   ]
  },
  {
   "cell_type": "code",
   "execution_count": 9,
   "metadata": {},
   "outputs": [
    {
     "name": "stdout",
     "output_type": "stream",
     "text": [
      "[[1 2 3 4 5 6]]\n",
      "2\n",
      "(1, 6)\n"
     ]
    }
   ],
   "source": [
    "# Crea un arrego de dos dimensiones, utilizando el parámetro ndmin\n",
    "n = np.array([1, 2, 3, 4, 5, 6], ndmin=2) \n",
    "print (n)\n",
    "print(n[0][1])\n",
    "print (n.shape)"
   ]
  },
  {
   "cell_type": "markdown",
   "metadata": {},
   "source": [
    "## NumPy - Tipos de datos estándar\n",
    "Los arreglos NumPy contienen valores de un tipo de datos simple, es conveniente conocer estos tipos de datos y sus limitaciones.\n",
    "Los tipos de datos estándar de NumPy se muestran en la siguiente tabla. Para construir un arreglo, puede especificarse el tipo usando un string:\n",
    "\n",
    "```python\n",
    "arreglo = np.zeros(10, dtype='int16')\n",
    "```\n",
    "O usando el objeto NumPy asociado:\n",
    "\n",
    "``python\n",
    "np.zeros(10, dtype=np.int16)\n",
    "```"
   ]
  },
  {
   "cell_type": "markdown",
   "metadata": {},
   "source": [
    "| Data type\t    | Description |\n",
    "|---------------|-------------|\n",
    "| ``bool_``     | Boolean (True or False) stored as a byte |\n",
    "| ``int_``      | Default integer type (same as C ``long``; normally either ``int64`` or ``int32``)| \n",
    "| ``intc``      | Identical to C ``int`` (normally ``int32`` or ``int64``)| \n",
    "| ``intp``      | Integer used for indexing (same as C ``ssize_t``; normally either ``int32`` or ``int64``)| \n",
    "| ``int8``      | Byte (-128 to 127)| \n",
    "| ``int16``     | Integer (-32768 to 32767)|\n",
    "| ``int32``     | Integer (-2147483648 to 2147483647)|\n",
    "| ``int64``     | Integer (-9223372036854775808 to 9223372036854775807)| \n",
    "| ``uint8``     | Unsigned integer (0 to 255)| \n",
    "| ``uint16``    | Unsigned integer (0 to 65535)| \n",
    "| ``uint32``    | Unsigned integer (0 to 4294967295)| \n",
    "| ``uint64``    | Unsigned integer (0 to 18446744073709551615)| \n",
    "| ``float_``    | Shorthand for ``float64``.| \n",
    "| ``float16``   | Half precision float: sign bit, 5 bits exponent, 10 bits mantissa| \n",
    "| ``float32``   | Single precision float: sign bit, 8 bits exponent, 23 bits mantissa| \n",
    "| ``float64``   | Double precision float: sign bit, 11 bits exponent, 52 bits mantissa| \n",
    "| ``complex_``  | Shorthand for ``complex128``.| \n",
    "| ``complex64`` | Complex number, represented by two 32-bit floats| \n",
    "| ``complex128``| Complex number, represented by two 64-bit floats| "
   ]
  },
  {
   "cell_type": "markdown",
   "metadata": {},
   "source": [
    "Ejemplos de creación de arreglos de distinto tipo:"
   ]
  },
  {
   "cell_type": "code",
   "execution_count": 5,
   "metadata": {},
   "outputs": [
    {
     "name": "stdout",
     "output_type": "stream",
     "text": [
      "[1.+0.j 2.+0.j 3.+0.j]\n",
      "<class 'numpy.complex128'>\n",
      "[[1. 2. 3.]\n",
      " [4. 5. 6.]]\n",
      "<class 'numpy.ndarray'>\n",
      "<class 'numpy.float64'>\n"
     ]
    }
   ],
   "source": [
    "import numpy as np\n",
    "# Creación de arreglo de números complejos\n",
    "complejos = np.array([1 , 2, 3], dtype=complex)\n",
    "print(complejos)\n",
    "print(type(complejos[0]))\n",
    "# Creación de un arreglo bidiemnsional de flotantes de doble presición\n",
    "# a partir de una listas de listas\n",
    "arreglo = np.array([[1, 2, 3], [4, 5, 6]], dtype=np.float64)\n",
    "print(arreglo)\n",
    "print(type(arreglo[0]))\n",
    "print(type(arreglo[0][0]))"
   ]
  },
  {
   "cell_type": "markdown",
   "metadata": {},
   "source": [
    "## NumPy - Manejo Básico de los arreglos\n",
    "La manipulación de datos en Python es casi sinónimo de la manipulación de los arreglos de NumPy: incluso herramientas más nuevas como ``Pandas`` se construyen alrededor de los arreglos NumPy.\n",
    "Veremos a través de ejemplos el uso y manipualción de arreglos de NumPy, que permitirán:\n",
    "- conocer el tamaño, la dimensión y el tipo de datos de los arreglos.\n",
    "- accederr a datos y subarreglos, los subarreglos son arreglos más pequeños que se obtienen de arreglos grandes arreglos.\n",
    "- redimensionar arreglos, cambiando las dimensiones de un arreglo.\n",
    "- unir  y dividir arreglos, combinando varios arreglos en uno o dividiendo un arreglo en varios."
   ]
  },
  {
   "cell_type": "markdown",
   "metadata": {},
   "source": [
    "## NumPy - Atributos de los arreglos"
   ]
  },
  {
   "cell_type": "markdown",
   "metadata": {},
   "source": [
    "Primero discutermos algunos de los atributos más usados de los arreglos, para ellos definiremos tres arreglos de números aleatorios, uno unidimensional, uno bidimensional y otro tridimensional.\n",
    "Usaremos el generador de números aleatorios de NumPy, el que necesita de una *semilla* para asegurar que cada vez que se ejecute el código, genere el mismo set de números aleatorios:"
   ]
  },
  {
   "cell_type": "code",
   "execution_count": 2,
   "metadata": {},
   "outputs": [
    {
     "name": "stdout",
     "output_type": "stream",
     "text": [
      "Arreglo Unidimensional\n",
      "[5 0 3 3 7 9]\n",
      "Arreglo Bidimensional\n",
      "[[3 5 2 4]\n",
      " [7 6 8 8]\n",
      " [1 6 7 7]]\n",
      "Arreglo Tridimensional\n",
      "[[[8 1 5 9 8]\n",
      "  [9 4 3 0 3]\n",
      "  [5 0 2 3 8]\n",
      "  [1 3 3 3 7]]\n",
      "\n",
      " [[0 1 9 9 0]\n",
      "  [4 7 3 2 7]\n",
      "  [2 0 0 4 5]\n",
      "  [5 6 8 4 1]]\n",
      "\n",
      " [[4 9 8 1 1]\n",
      "  [7 9 9 3 6]\n",
      "  [7 2 0 3 5]\n",
      "  [9 4 4 6 4]]]\n"
     ]
    }
   ],
   "source": [
    "import numpy as np\n",
    "np.random.seed(0)  # semilla que asegura que cada vez que se ejecute el siguiente código\n",
    "                   # genere el mismo set de datos\n",
    "x1 = np.random.randint(10, size=6)  # Arreglo unidimensional\n",
    "x2 = np.random.randint(10, size=(3, 4))  # Arreglo bidimensional\n",
    "x3 = np.random.randint(10, size=(3, 4, 5))  # Arreglo tridimensional\n",
    "print(\"Arreglo Unidimensional\")\n",
    "print(x1)\n",
    "print(\"Arreglo Bidimensional\")\n",
    "print(x2)\n",
    "print(\"Arreglo Tridimensional\")\n",
    "print(x3)"
   ]
  },
  {
   "cell_type": "markdown",
   "metadata": {},
   "source": [
    "Cada arreglo tiene los artibutos ``ndim`` (el número de dimensiones), ``shape`` (el tamaño de cada dimensión), ``size`` (el tamaño total del arreglo total) y ``dtype`` (el tipo de datos el arreglo):"
   ]
  },
  {
   "cell_type": "code",
   "execution_count": 6,
   "metadata": {},
   "outputs": [
    {
     "name": "stdout",
     "output_type": "stream",
     "text": [
      "Atributos del arreglo x3\n",
      "Número de dimensiones:  3\n",
      "Tamaño de cada dimensión:  (3, 4, 5)\n",
      "Tamaño total del arreglo:  60\n",
      "Tipo de datos (dtype):  int64\n"
     ]
    }
   ],
   "source": [
    "print(\"Atributos del arreglo x3\")\n",
    "print(\"Número de dimensiones: \", x3.ndim)\n",
    "print(\"Tamaño de cada dimensión: \", x3.shape)\n",
    "print(\"Tamaño total del arreglo: \", x3.size)\n",
    "print(\"Tipo de datos (dtype): \", x3.dtype)"
   ]
  },
  {
   "cell_type": "markdown",
   "metadata": {},
   "source": [
    "Otros atributos como ``itemsize``, muestra el tamaño en byte de cada elemento del arreglo, y ``nbytes``, muestra el tamaño total del arreglo en bytes:"
   ]
  },
  {
   "cell_type": "code",
   "execution_count": 7,
   "metadata": {},
   "outputs": [
    {
     "name": "stdout",
     "output_type": "stream",
     "text": [
      "itemsize:  8  bytes\n",
      "nbytes:  480 bytes\n"
     ]
    }
   ],
   "source": [
    "print(\"itemsize: \", x3.itemsize, \" bytes\")\n",
    "print(\"nbytes: \", x3.nbytes, \"bytes\")"
   ]
  },
  {
   "cell_type": "markdown",
   "metadata": {},
   "source": [
    "Es de esperar que el tamaño total del arreglo sea el producto de los atributos: ``size`` * ``itemsize``, en el caso de x3, 480 = 60 * 8."
   ]
  },
  {
   "cell_type": "markdown",
   "metadata": {},
   "source": [
    "Si se está familiarizado con la indexación de elementos de arreglos en lenguajes como C, C++, C#, Java, lista de Python, etc., indexar los elementos de un arreglo de NumPy resultará bastante familar. Si el arreglo es unidimensional, la $i^{th}$ componente puede accederse especificando el índice deseado (comenzando desde cero) entre corchetes, como se hace en las listas de Python:"
   ]
  },
  {
   "cell_type": "code",
   "execution_count": 8,
   "metadata": {},
   "outputs": [
    {
     "name": "stdout",
     "output_type": "stream",
     "text": [
      "5\n",
      "9\n"
     ]
    }
   ],
   "source": [
    "# Imprime primer componente del arreglo x1\n",
    "print(x1[0])\n",
    "# Imprime sexta componente del arreglo x1\n",
    "print(x1[5])"
   ]
  },
  {
   "cell_type": "markdown",
   "metadata": {},
   "source": [
    "### Novedad importante\n",
    "Python permite indexar desde el final del arreglo utilizando índices negativos:"
   ]
  },
  {
   "cell_type": "code",
   "execution_count": 10,
   "metadata": {},
   "outputs": [
    {
     "name": "stdout",
     "output_type": "stream",
     "text": [
      "9\n",
      "7\n"
     ]
    }
   ],
   "source": [
    "# Imprime última componente del arreglo\n",
    "print(x1[-1]) # produce el mismo resultado que print(x1[5])\n",
    "# Imprime penúltima componente del arreglo\n",
    "print(x1[-2]) # produce el mismo resultado que print(x1[4])"
   ]
  },
  {
   "cell_type": "markdown",
   "metadata": {},
   "source": [
    "Para acceder a las componentes de un arreglo bidimensional, se utilizan dos índices entre corchetes separados por una coma:"
   ]
  },
  {
   "cell_type": "code",
   "execution_count": 11,
   "metadata": {},
   "outputs": [
    {
     "data": {
      "text/plain": [
       "array([[3, 5, 2, 4],\n",
       "       [7, 6, 8, 8],\n",
       "       [1, 6, 7, 7]])"
      ]
     },
     "execution_count": 11,
     "metadata": {},
     "output_type": "execute_result"
    }
   ],
   "source": [
    "print(x2)"
   ]
  },
  {
   "cell_type": "code",
   "execution_count": 13,
   "metadata": {},
   "outputs": [
    {
     "name": "stdout",
     "output_type": "stream",
     "text": [
      "2\n"
     ]
    }
   ],
   "source": [
    "print(x2[0,2])"
   ]
  },
  {
   "cell_type": "markdown",
   "metadata": {},
   "source": [
    "## NumPy - Subarreglos (array slicing)\n",
    "Además de usar los corchete para acceder a los elementos individuales de un arreglo, es posible usarlos para acceder a subarreglos con lo que se denomina notación *slice*, usando como marca el caracter ``:``.\n",
    "\n",
    "La sintaxis de la notación *slice* de NumPy es la misma que utiliza Python para las listas:\n",
    "``` python\n",
    "x[start:stop:step]\n",
    "```\n",
    "Si no se escifican alguno de los valor, se toman los valore por defecto, estos son: ``start=0``, ``stop=``*``tamaño de la dimensión``*, ``step=1``.\n",
    "Mostraremos cómo acceder a subarreglos uni y multidimensionales."
   ]
  },
  {
   "cell_type": "markdown",
   "metadata": {},
   "source": [
    "### Subarreglos de arreglos unidimensionales"
   ]
  },
  {
   "cell_type": "code",
   "execution_count": 15,
   "metadata": {},
   "outputs": [
    {
     "name": "stdout",
     "output_type": "stream",
     "text": [
      "[0 1 2 3 4 5 6 7 8 9]\n"
     ]
    }
   ],
   "source": [
    "x = np.arange(10)\n",
    "print(x)"
   ]
  },
  {
   "cell_type": "code",
   "execution_count": 17,
   "metadata": {},
   "outputs": [
    {
     "name": "stdout",
     "output_type": "stream",
     "text": [
      "[0 1 2 3 4]\n"
     ]
    }
   ],
   "source": [
    "print(x[:5])  # primeros cinco elementos "
   ]
  },
  {
   "cell_type": "code",
   "execution_count": 18,
   "metadata": {},
   "outputs": [
    {
     "name": "stdout",
     "output_type": "stream",
     "text": [
      "[5 6 7 8 9]\n"
     ]
    }
   ],
   "source": [
    "print(x[5:])  # elementos elementos posteriores al quinto elemento"
   ]
  },
  {
   "cell_type": "code",
   "execution_count": 19,
   "metadata": {},
   "outputs": [
    {
     "name": "stdout",
     "output_type": "stream",
     "text": [
      "[4 5 6]\n"
     ]
    }
   ],
   "source": [
    "print(x[4:7])  # sub arreglo intermedio"
   ]
  },
  {
   "cell_type": "code",
   "execution_count": 20,
   "metadata": {},
   "outputs": [
    {
     "name": "stdout",
     "output_type": "stream",
     "text": [
      "[0 2 4 6 8]\n"
     ]
    }
   ],
   "source": [
    "print(x[::2])  # elementos con salto de dos en dos comenzando desde el primero"
   ]
  },
  {
   "cell_type": "code",
   "execution_count": 21,
   "metadata": {},
   "outputs": [
    {
     "name": "stdout",
     "output_type": "stream",
     "text": [
      "[1 3 5 7 9]\n"
     ]
    }
   ],
   "source": [
    "print(x[1::2])  # elementos con salto de dos en dos, pero empezado por el segundo elemento"
   ]
  },
  {
   "cell_type": "markdown",
   "metadata": {},
   "source": [
    "Un caso potencialmente confuso es cuando el valor del salto es negativo. En este caso, los valores predeterminados de inicio y fin se intercambian, por lo expuesto es una forma de obtener el arreglo en reversa:"
   ]
  },
  {
   "cell_type": "code",
   "execution_count": 22,
   "metadata": {},
   "outputs": [
    {
     "name": "stdout",
     "output_type": "stream",
     "text": [
      "[9 8 7 6 5 4 3 2 1 0]\n"
     ]
    }
   ],
   "source": [
    "print(x[::-1]) # arreglo en reversa"
   ]
  },
  {
   "cell_type": "markdown",
   "metadata": {},
   "source": [
    "### Subarreglos de arreglos Multi-dimensionales\n",
    "En el caso de arreglos de más de una dimensión, los slices trabajan de la misma forma, con múltiples slices separados por comas.\n",
    "Por ejemplo:"
   ]
  },
  {
   "cell_type": "code",
   "execution_count": 23,
   "metadata": {},
   "outputs": [
    {
     "name": "stdout",
     "output_type": "stream",
     "text": [
      "[[3 5 2 4]\n",
      " [7 6 8 8]\n",
      " [1 6 7 7]]\n"
     ]
    }
   ],
   "source": [
    "print(x2)"
   ]
  },
  {
   "cell_type": "code",
   "execution_count": 24,
   "metadata": {},
   "outputs": [
    {
     "name": "stdout",
     "output_type": "stream",
     "text": [
      "[[3 5 2]\n",
      " [7 6 8]]\n"
     ]
    }
   ],
   "source": [
    "print(x2[:2, :3]) # dos filas, tres columnas"
   ]
  },
  {
   "cell_type": "code",
   "execution_count": 25,
   "metadata": {},
   "outputs": [
    {
     "name": "stdout",
     "output_type": "stream",
     "text": [
      "[[3 2]\n",
      " [7 8]\n",
      " [1 7]]\n"
     ]
    }
   ],
   "source": [
    "print(x2[:3, ::2])  # todas las filas, la columnas con paso 2 comenzado por la columna 0"
   ]
  },
  {
   "cell_type": "markdown",
   "metadata": {},
   "source": [
    "Y finalmente, dimensiones y subarreglos pueden revertise a la misma vez:"
   ]
  },
  {
   "cell_type": "code",
   "execution_count": 26,
   "metadata": {},
   "outputs": [
    {
     "name": "stdout",
     "output_type": "stream",
     "text": [
      "[[7 7 6 1]\n",
      " [8 8 6 7]\n",
      " [4 2 5 3]]\n"
     ]
    }
   ],
   "source": [
    "print(x2[::-1, ::-1])"
   ]
  },
  {
   "cell_type": "markdown",
   "metadata": {},
   "source": [
    "#### Accediendo a filas y columnas de los arreglos\n",
    "Es muy común acceder a una fila o una columna de un arreglo. Esto puede hacerse combinando indexación y slicing, usando un slice vacío (``:``), separado por una coma del índice de fila o columna:"
   ]
  },
  {
   "cell_type": "code",
   "execution_count": 3,
   "metadata": {},
   "outputs": [
    {
     "name": "stdout",
     "output_type": "stream",
     "text": [
      "[3 7 1]\n"
     ]
    }
   ],
   "source": [
    "print(x2[:, 0])  # primer columna de x2"
   ]
  },
  {
   "cell_type": "code",
   "execution_count": 4,
   "metadata": {},
   "outputs": [
    {
     "name": "stdout",
     "output_type": "stream",
     "text": [
      "[3 5 2 4]\n"
     ]
    }
   ],
   "source": [
    "print(x2[0, :])  # primer fila de x2"
   ]
  },
  {
   "cell_type": "markdown",
   "metadata": {},
   "source": [
    "### Los subarreglos son vistas, no son copias\n",
    "Una importante aclaración es que los slices retornan subarreglos que son *vistas* no *copias* de los datos del arreglo.\n",
    "Esto hace una importante diferencia entre el slicing de los arreglos de NumPy y las listas de Python, ya que en las listas el slicing crea copias no vistas.\n",
    "Cada vez que se modifique una *vista*, los cambios se reflejan en el arreglo original:"
   ]
  },
  {
   "cell_type": "code",
   "execution_count": 5,
   "metadata": {},
   "outputs": [
    {
     "name": "stdout",
     "output_type": "stream",
     "text": [
      "[[3 5 2 4]\n",
      " [7 6 8 8]\n",
      " [1 6 7 7]]\n"
     ]
    }
   ],
   "source": [
    "print(x2)"
   ]
  },
  {
   "cell_type": "code",
   "execution_count": 6,
   "metadata": {},
   "outputs": [
    {
     "name": "stdout",
     "output_type": "stream",
     "text": [
      "[[3 5]\n",
      " [7 6]]\n"
     ]
    }
   ],
   "source": [
    "x2_sub = x2[:2, :2] # genera un subarreglo de las dos primera filas con las dos primeras columnas\n",
    "print(x2_sub)"
   ]
  },
  {
   "cell_type": "code",
   "execution_count": 7,
   "metadata": {},
   "outputs": [
    {
     "name": "stdout",
     "output_type": "stream",
     "text": [
      "[[99  5]\n",
      " [ 7  6]]\n"
     ]
    }
   ],
   "source": [
    "x2_sub[0, 0] = 99\n",
    "print(x2_sub)"
   ]
  },
  {
   "cell_type": "code",
   "execution_count": 8,
   "metadata": {},
   "outputs": [
    {
     "name": "stdout",
     "output_type": "stream",
     "text": [
      "[[99  5  2  4]\n",
      " [ 7  6  8  8]\n",
      " [ 1  6  7  7]]\n"
     ]
    }
   ],
   "source": [
    "print(x2)"
   ]
  },
  {
   "cell_type": "markdown",
   "metadata": {},
   "source": [
    "Este comportamiento por defecto es de gran utilidad cuando se trabajan grandes volúmenes de datos: en lugar de trabajar con todos los datos, se puede trabajar con un subconjunto, procesarlo, de modo que todas las modificaciones que se realicen sobre el subconjunto se reflejarán en los datos originales, sin la sobrecarga de trabajar con un arreglo de importantes dimensiones."
   ]
  },
  {
   "cell_type": "markdown",
   "metadata": {},
   "source": [
    "### Creando copia de subarreglos\n",
    "En algunas oportunidades se necesita crear copias de arreglo en lugar de vistas, para ello se utiliza el método ``copy()``:"
   ]
  },
  {
   "cell_type": "code",
   "execution_count": 9,
   "metadata": {},
   "outputs": [
    {
     "name": "stdout",
     "output_type": "stream",
     "text": [
      "[[99  5]\n",
      " [ 7  6]]\n"
     ]
    }
   ],
   "source": [
    "x2_sub_copy = x2[:2, :2].copy()\n",
    "print(x2_sub_copy)"
   ]
  },
  {
   "cell_type": "markdown",
   "metadata": {},
   "source": [
    "Ahora si modificamos una de las componentes del subarreglo, no se verá afectado el arreglo original:"
   ]
  },
  {
   "cell_type": "code",
   "execution_count": 10,
   "metadata": {},
   "outputs": [
    {
     "name": "stdout",
     "output_type": "stream",
     "text": [
      "[[42  5]\n",
      " [ 7  6]]\n"
     ]
    }
   ],
   "source": [
    "x2_sub_copy[0, 0] = 42\n",
    "print(x2_sub_copy)"
   ]
  },
  {
   "cell_type": "code",
   "execution_count": 11,
   "metadata": {},
   "outputs": [
    {
     "name": "stdout",
     "output_type": "stream",
     "text": [
      "[[99  5  2  4]\n",
      " [ 7  6  8  8]\n",
      " [ 1  6  7  7]]\n"
     ]
    }
   ],
   "source": [
    "print(x2)"
   ]
  },
  {
   "cell_type": "markdown",
   "metadata": {},
   "source": [
    "## Redimensionando arreglos\n",
    "Otro tipo de operación muy usada es la redimensión de los arreglos. La forma de hacerlo es a través del método ``reshape``.\n",
    "Por ejemplo, si se quieren almacenar los números del 1 al 9 en una matriz de $3 \\times 3$, se puede hacer lo siguiente:"
   ]
  },
  {
   "cell_type": "code",
   "execution_count": 14,
   "metadata": {},
   "outputs": [
    {
     "name": "stdout",
     "output_type": "stream",
     "text": [
      "[1 2 3 4 5 6 7 8 9]\n",
      "[[1 2 3]\n",
      " [4 5 6]\n",
      " [7 8 9]]\n"
     ]
    }
   ],
   "source": [
    "matriz = np.arange(1, 10)\n",
    "print(matriz)\n",
    "matriz=matriz.reshape((3, 3))\n",
    "print(matriz)"
   ]
  },
  {
   "cell_type": "markdown",
   "metadata": {},
   "source": [
    "## Concatenación y División de Arreglos\n",
    "Es posible combinar múltiples arreglos en uno solo, o dividir un arreglo en varios. "
   ]
  },
  {
   "cell_type": "markdown",
   "metadata": {},
   "source": [
    "### Concatenation of arrays\n",
    "La concatenación, o unión de dos arreglos en NumPy, se puede realizar usando las funciones: \n",
    "``np.concatenate``, ``np.vstack``, y ``np.hstack``.\n",
    "``np.concatenate`` toma una tupla o lista de arreglos como su primer argumento:"
   ]
  },
  {
   "cell_type": "code",
   "execution_count": 2,
   "metadata": {},
   "outputs": [
    {
     "name": "stdout",
     "output_type": "stream",
     "text": [
      "[1 2 3 3 2 1]\n"
     ]
    }
   ],
   "source": [
    "import numpy as np\n",
    "x = np.array([1, 2, 3])\n",
    "y = np.array([3, 2, 1])\n",
    "nuevo = np.concatenate([x, y])\n",
    "print(nuevo)"
   ]
  },
  {
   "cell_type": "markdown",
   "metadata": {},
   "source": [
    "También se pueden concatenar más de dos arreglos:"
   ]
  },
  {
   "cell_type": "code",
   "execution_count": 3,
   "metadata": {},
   "outputs": [
    {
     "name": "stdout",
     "output_type": "stream",
     "text": [
      "[ 1  2  3  3  2  1 99 99 99]\n"
     ]
    }
   ],
   "source": [
    "z = np.array([99, 99, 99])\n",
    "nuevo = np.concatenate([x, y, z])\n",
    "print(nuevo)"
   ]
  },
  {
   "cell_type": "markdown",
   "metadata": {},
   "source": [
    "Los arreglos bidimensionales, se pueden concatenar directamente usando la función ``concatenate`` cuando tienen la misma dimensión:"
   ]
  },
  {
   "cell_type": "code",
   "execution_count": 8,
   "metadata": {},
   "outputs": [
    {
     "name": "stdout",
     "output_type": "stream",
     "text": [
      "[[ 2  4  6  8]\n",
      " [10 12 14 16]]\n"
     ]
    }
   ],
   "source": [
    "matriz = np.array([[ 2, 4, 6, 8],\n",
    "                   [10,12,14,16]])\n",
    "print(matriz)"
   ]
  },
  {
   "cell_type": "code",
   "execution_count": 9,
   "metadata": {},
   "outputs": [
    {
     "name": "stdout",
     "output_type": "stream",
     "text": [
      "[[ 2  4  6  8]\n",
      " [10 12 14 16]\n",
      " [ 2  4  6  8]\n",
      " [10 12 14 16]]\n"
     ]
    }
   ],
   "source": [
    "nueva_matriz = np.concatenate([matriz, matriz])\n",
    "print(nueva_matriz)"
   ]
  },
  {
   "cell_type": "markdown",
   "metadata": {},
   "source": [
    "Cuando difieren en dimensiones, pero coinciden en cantidad de columnas o cantidad de filas,se utilizan las funciones: ``np.vstack`` (vertical stack) y ``np.hstack`` (horizontal stack), respectivamente."
   ]
  },
  {
   "cell_type": "code",
   "execution_count": 15,
   "metadata": {},
   "outputs": [
    {
     "name": "stdout",
     "output_type": "stream",
     "text": [
      "(3,)\n",
      "(2, 3)\n",
      "[[1 2 3]\n",
      " [9 8 7]\n",
      " [6 5 4]]\n",
      "(3, 3)\n"
     ]
    }
   ],
   "source": [
    "x = np.array([1, 2, 3])\n",
    "print(x.shape)\n",
    "matriz = np.array([[9, 8, 7],\n",
    "                   [6, 5, 4]])\n",
    "print(matriz.shape)  \n",
    "# union de los arreglos usando vstack (vertically stack) \n",
    "nueva_matriz = np.vstack([x, matriz])\n",
    "print(nueva_matriz)\n",
    "print(nueva_matriz.shape)"
   ]
  },
  {
   "cell_type": "code",
   "execution_count": 17,
   "metadata": {},
   "outputs": [
    {
     "name": "stdout",
     "output_type": "stream",
     "text": [
      "(2, 1)\n",
      "[[ 9  8  7 99]\n",
      " [ 6  5  4 99]]\n",
      "(2, 4)\n"
     ]
    }
   ],
   "source": [
    "# unión horizontal de los arreglos usando hstack (horizontally stack)\n",
    "y = np.array([[99],\n",
    "              [99]])\n",
    "print(y.shape)\n",
    "nueva_matriz = np.hstack([matriz, y])\n",
    "print(nueva_matriz)\n",
    "print(nueva_matriz.shape)"
   ]
  },
  {
   "cell_type": "markdown",
   "metadata": {},
   "source": [
    "### División de arreglos\n",
    "Lo opuesto a la concatenación de arreglos, es la división de arreglos, la que se implementa con las funciones  ``np.split``, ``np.hsplit``, y ``np.vsplit``.  Para cada una de estas, debemos pasar una lista de los índices con los puntos de divión."
   ]
  },
  {
   "cell_type": "code",
   "execution_count": 20,
   "metadata": {},
   "outputs": [
    {
     "name": "stdout",
     "output_type": "stream",
     "text": [
      "[1 2] [ 3 99] [99 99] [3 2 1]\n"
     ]
    }
   ],
   "source": [
    "x = [1, 2, 3, 99, 99, 99, 3, 2, 1]\n",
    "x1, x2, x3, x4 = np.split(x, [2, 4, 6])\n",
    "print(x1, x2, x3, x4)"
   ]
  },
  {
   "cell_type": "markdown",
   "metadata": {},
   "source": [
    "Se debe notar que *N* puntos de división, producen *N + 1* subarreglos. Las funciones ``np.hsplit`` y ``np.vsplit`` son similares:"
   ]
  },
  {
   "cell_type": "code",
   "execution_count": 21,
   "metadata": {},
   "outputs": [
    {
     "name": "stdout",
     "output_type": "stream",
     "text": [
      "[[ 0  1  2  3]\n",
      " [ 4  5  6  7]\n",
      " [ 8  9 10 11]\n",
      " [12 13 14 15]]\n"
     ]
    }
   ],
   "source": [
    "matriz = np.arange(16).reshape((4, 4))\n",
    "print(matriz)"
   ]
  },
  {
   "cell_type": "code",
   "execution_count": 23,
   "metadata": {},
   "outputs": [
    {
     "name": "stdout",
     "output_type": "stream",
     "text": [
      "[[0 1 2 3]\n",
      " [4 5 6 7]]\n",
      "[[ 8  9 10 11]\n",
      " [12 13 14 15]]\n"
     ]
    }
   ],
   "source": [
    "m1, m2 = np.vsplit(matriz, [2])\n",
    "print(m1)\n",
    "print(m2)"
   ]
  },
  {
   "cell_type": "code",
   "execution_count": 24,
   "metadata": {},
   "outputs": [
    {
     "name": "stdout",
     "output_type": "stream",
     "text": [
      "[[ 0  1]\n",
      " [ 4  5]\n",
      " [ 8  9]\n",
      " [12 13]]\n",
      "[[ 2  3]\n",
      " [ 6  7]\n",
      " [10 11]\n",
      " [14 15]]\n"
     ]
    }
   ],
   "source": [
    "m3, m4 = np.hsplit(matriz, [2])\n",
    "print(m3)\n",
    "print(m4)"
   ]
  },
  {
   "cell_type": "markdown",
   "metadata": {},
   "source": [
    "# Cálculo sobre arreglos NumPy: Funciones Universales"
   ]
  },
  {
   "cell_type": "markdown",
   "metadata": {},
   "source": [
    "Analizaremos las razones por las que NumPy es tan importante en el mundo de la Ciencias de los Datos. \n",
    "Proporciona una interfaz fácil y flexible para optimizar el cálculo con matrices de datos.\n",
    "Los cálculos realizados con matrices de NumPy, pueden ser muy rápidos o muy lentos, la clave para que los cálculos sean muy rápidos es utilizar funciones *vectorizadas*, implementadas a través de *funciones universales* del mismo NumPy (ufuncs).\n",
    "Las ufuncs de NumPy pueden hacer que los cálculos repetidos sobre los elementos de una matriz sean muy eficientes. \n",
    "A continuación, presentamos varias ufuncs aritméticas, las más comunes y útiles disponibles en le paquete NumPy."
   ]
  },
  {
   "cell_type": "markdown",
   "metadata": {},
   "source": [
    "## La lentitud de los bucles\n",
    "La implementación por defecto de Python (conocida como CPython), tiene algunas operaciones que son muy lentas. Esto se debe básicamente a la naturaleza del propio lenguaje: es un lenguaje interpretado con tipado dinámico, lo que dificulta las tareas de optimización de código, propia de los compiladores como los de los lenguajes C y Fortran. \n",
    "La lentitud relativa de Python generalmente se manifiesta en situaciones en las que se repiten muchas operaciones pequeñas, por ejemplo, hacer un bucle sobre matrices para operar en cada elemento.\n",
    "Para demostrar el las este tipo de operaciones, supongamos que dado un arreglo de valores, se pretende calcular el recíproco de cada uno de ellos:"
   ]
  },
  {
   "cell_type": "code",
   "execution_count": 7,
   "metadata": {
    "collapsed": false
   },
   "outputs": [
    {
     "name": "stdout",
     "output_type": "stream",
     "text": [
      "[6 1 4 4 8]\n",
      "[0.16666667 1.         0.25       0.25       0.125     ]\n"
     ]
    }
   ],
   "source": [
    "import numpy as np\n",
    "np.random.seed(0)\n",
    "\n",
    "def calculo_reciprocos(arreglo):\n",
    "    output = np.empty(len(arreglo))\n",
    "    for i in range(len(arreglo)):\n",
    "        output[i] = 1.0 / arreglo[i]\n",
    "    return output\n",
    "        \n",
    "valores = np.random.randint(1, 10, size=5)\n",
    "print(valores)\n",
    "reciprocos = calculo_reciprocos(valores)\n",
    "print(reciprocos)"
   ]
  },
  {
   "cell_type": "markdown",
   "metadata": {},
   "source": [
    "Esta implementación es bastante natural para programadores con conocimiento en lenguajes de programación como C o Java. \n",
    "Pero si medimos el tiempo de ejecución de este código para un arreglo grande, vemos que esta operación es muy lenta.\n",
    "Para medir los tiempos de ejecución se utilizará el comando ``%timeit`` de IPython, con el objeto de demostrar la lentitud del cálculo de recíprocos implementada con la función *calculo_reciprocos*."
   ]
  },
  {
   "cell_type": "code",
   "execution_count": 8,
   "metadata": {
    "collapsed": false
   },
   "outputs": [
    {
     "name": "stdout",
     "output_type": "stream",
     "text": [
      "1.78 s ± 56.6 ms per loop (mean ± std. dev. of 7 runs, 1 loop each)\n"
     ]
    }
   ],
   "source": [
    "big_array = np.random.randint(1, 100, size=1000000)\n",
    "%timeit calculo_reciprocos(big_array)"
   ]
  },
  {
   "cell_type": "markdown",
   "metadata": {},
   "source": [
    "Lleva varios segundos calcular estas millones de operaciones y almacenar el resultado\n",
    "Cuando incluso los teléfonos celulares tienen velocidades de procesamiento medidas en Giga-FLOPS (es decir, miles de millones de operaciones numéricas por segundo), esto parece casi absurdamente lento.\n",
    "Resulta que el cuello de botella aquí no son las operaciones en sí mismas, sino los despachos de verificación de tipos y funciones que CPython debe hacer en cada ciclo.\n",
    "Cada vez que se calcula el recíproco, Python primero examina el tipo del objeto y realiza una búsqueda dinámica de la función correcta para usar con ese tipo.\n",
    "Si trabajáramos en código compilado, esta especificación de tipo se conocería antes de que se ejecute el código y el resultado podría calcularse de manera mucho más eficiente."
   ]
  },
  {
   "cell_type": "markdown",
   "metadata": {},
   "source": [
    "## Introducción a las UFuncs\n",
    "Para muchos tipos de operaciones, NumPy proporciona la interfaz conveniente previamente compilada. Esto se conoce como una operación *vectorizada*.\n",
    "Esto se puede lograr simplemente realizando una operación con toda la matriz a la vez, que luego se aplicará a cada elemento.\n",
    "Este enfoque vectorizado está diseñado para impulsar el ciclo en la capa compilada que subyace a NumPy, lo que lleva a una ejecución mucho más rápida."
   ]
  },
  {
   "cell_type": "code",
   "execution_count": 30,
   "metadata": {
    "collapsed": false
   },
   "outputs": [
    {
     "name": "stdout",
     "output_type": "stream",
     "text": [
      "[0.16666667 1.         0.25       0.25       0.125     ]\n",
      "[0.16666667 1.         0.25       0.25       0.125     ]\n"
     ]
    }
   ],
   "source": [
    "print(calculo_reciprocos(valores))\n",
    "print(1.0 / valores) # aquí se usa una operación vectorizada"
   ]
  },
  {
   "cell_type": "code",
   "execution_count": 34,
   "metadata": {
    "collapsed": false
   },
   "outputs": [
    {
     "name": "stdout",
     "output_type": "stream",
     "text": [
      "1.78 s ± 28.1 ms per loop (mean ± std. dev. of 7 runs, 1 loop each)\n"
     ]
    }
   ],
   "source": [
    "%timeit calculo_reciprocos(big_array)  #lento"
   ]
  },
  {
   "cell_type": "code",
   "execution_count": 35,
   "metadata": {},
   "outputs": [
    {
     "name": "stdout",
     "output_type": "stream",
     "text": [
      "2.02 ms ± 149 µs per loop (mean ± std. dev. of 7 runs, 100 loops each)\n"
     ]
    }
   ],
   "source": [
    "%timeit (1.0 / big_array) #rápido"
   ]
  },
  {
   "cell_type": "markdown",
   "metadata": {},
   "source": [
    "## Explorando algunas de las UFuncs de NumPy\n",
    "En NumPy existen dos implementaciones de la UFuncs: *ufuncs unarias* y *ufuncs binarias*, las que operan con uno o dos entradas respectivamente."
   ]
  },
  {
   "cell_type": "markdown",
   "metadata": {},
   "source": [
    "### Aritmética de arreglos\n",
    "Las ufuncs de NumPy son muy naturales de usar, porque hacen uso de los operadores aritméticos nativos de Python.\n",
    "Así pueden usarse los operadores de suma, resta, multiplicación y división:"
   ]
  },
  {
   "cell_type": "code",
   "execution_count": 31,
   "metadata": {
    "collapsed": false
   },
   "outputs": [
    {
     "name": "stdout",
     "output_type": "stream",
     "text": [
      "x     = [0 1 2 3]\n",
      "x + 5 = [5 6 7 8]\n",
      "x - 5 = [-5 -4 -3 -2]\n",
      "x * 2 = [0 2 4 6]\n",
      "x / 2 = [0.  0.5 1.  1.5]\n",
      "x // 2 = [0 0 1 1]\n"
     ]
    }
   ],
   "source": [
    "x = np.arange(4)\n",
    "print(\"x     =\", x)\n",
    "print(\"x + 5 =\", x + 5)\n",
    "print(\"x - 5 =\", x - 5)\n",
    "print(\"x * 2 =\", x * 2)\n",
    "print(\"x / 2 =\", x / 2)\n",
    "print(\"x // 2 =\", x // 2)  # división entera"
   ]
  },
  {
   "cell_type": "markdown",
   "metadata": {},
   "source": [
    "También hay una función unaria para negar los valores de un arreglo, el operar exponenciación ``**`` , y el operador módulo ``%``:"
   ]
  },
  {
   "cell_type": "code",
   "execution_count": 32,
   "metadata": {
    "collapsed": false
   },
   "outputs": [
    {
     "name": "stdout",
     "output_type": "stream",
     "text": [
      "-x     =  [ 0 -1 -2 -3]\n",
      "x ** 2 =  [0 1 4 9]\n",
      "x % 2  =  [0 1 0 1]\n"
     ]
    }
   ],
   "source": [
    "print(\"-x     = \", -x)\n",
    "print(\"x ** 2 = \", x ** 2)\n",
    "print(\"x % 2  = \", x % 2)"
   ]
  },
  {
   "cell_type": "markdown",
   "metadata": {},
   "source": [
    "Además, estos operadores pueden combinarse como se desee. Los operadores combinados respetan el orden de presedencia establecido para los operares estándar de Python."
   ]
  },
  {
   "cell_type": "code",
   "execution_count": 33,
   "metadata": {
    "collapsed": false
   },
   "outputs": [
    {
     "name": "stdout",
     "output_type": "stream",
     "text": [
      "[-1.   -2.25 -4.   -6.25]\n"
     ]
    }
   ],
   "source": [
    "y = -(0.5*x + 1) ** 2\n",
    "print(y)"
   ]
  },
  {
   "cell_type": "markdown",
   "metadata": {
    "slideshow": {
     "slide_type": "-"
    }
   },
   "source": [
    "## EJEMPLOS\n",
    "### Altura de los jugadores de béisbol (tomado de DataCamp)\n",
    "Eres un gran fanático del béisbol. Decides llamar a la MLB (Major League Baseball) y preguntar por más estadísticas sobre la altura de los principales jugadores. Informan datos de más de mil jugadores, que se almacenan como una lista estándar de Python denominada: altura. La altura se expresa en pulgadas. Se necesita convertir la altura a metros. \n",
    "\n",
    "Fuente: <a href=\"http://wiki.stat.ucla.edu/socr/index.php/SOCR_Data_MLB_HeightsWeights\">stat.ucla.edu</a>\n",
    "\n",
    "$Intrucciones$\n",
    "- Crear un arreglo NunPy a partir de la lista *alturas*. El nombre del nuevo arreglo será np_alturas. \n",
    "- Imprimir el arreglo np_alturas. \n",
    "- Escribir una función que recibe un arreglo NumPy, genera un nuevo arreglo que tiene la altura de los jugadores en metros, para ello multiplica cada componente del arreglo recibido por 0.0254 para convertir la altura de pulgadas a metros de cada jugador. Guardar el resultado en un arreglo np_altura_m.\n",
    "- Medir tiempo de la función generada.\n",
    "- Medir tiempo de la operación *vectorizada*: $$altura(m) * 0.0254$$"
   ]
  },
  {
   "cell_type": "code",
   "execution_count": 21,
   "metadata": {},
   "outputs": [
    {
     "name": "stdout",
     "output_type": "stream",
     "text": [
      "[74 74 72 ... 75 75 73]\n",
      "[1.8796 1.8796 1.8288 ... 1.905  1.905  1.8542]\n"
     ]
    }
   ],
   "source": [
    "import numpy as np\n",
    "def convertir_pulgadas_a_metros(np_arreglo):\n",
    "    output = np.empty(len(np_arreglo))\n",
    "    for i in range(len(np_arreglo)):\n",
    "        output[i] = np_arreglo[i] * 0.0254\n",
    "    return output\n",
    "                   \n",
    "alturas = [74, 74, 72, 72, 73, 69, 69, 71, 76, 71, 73, 73, 74, 74, 69, 70, 73, 75, 78, 79, 76, 74, 76, 72, 71, 75, 77, 74, 73, 74, 78, 73, 75, 73, 75, 75, 74, 69, 71, 74, 73, 73, 76, 74, 74, 70, 72, 77, 74, 70, 73, 75, 76, 76, 78, 74, 74, 76, 77, 81, 78, 75, 77, 75, 76, 74, 72, 72, 75, 73, 73, 73, 70, 70, 70, 76, 68, 71, 72, 75, 75, 75, 75, 68, 74, 78, 71, 73, 76, 74, 74, 79, 75, 73, 76, 74, 74, 73, 72, 74, 73, 74, 72, 73, 69, 72, 73, 75, 75, 73, 72, 72, 76, 74, 72, 77, 74, 77, 75, 76, 80, 74, 74, 75, 78, 73, 73, 74, 75, 76, 71, 73, 74, 76, 76, 74, 73, 74, 70, 72, 73, 73, 73, 73, 71, 74, 74, 72, 74, 71, 74, 73, 75, 75, 79, 73, 75, 76, 74, 76, 78, 74, 76, 72, 74, 76, 74, 75, 78, 75, 72, 74, 72, 74, 70, 71, 70, 75, 71, 71, 73, 72, 71, 73, 72, 75, 74, 74, 75, 73, 77, 73, 76, 75, 74, 76, 75, 73, 71, 76, 75, 72, 71, 77, 73, 74, 71, 72, 74, 75, 73, 72, 75, 75, 74, 72, 74, 71, 70, 74, 77, 77, 75, 75, 78, 75, 76, 73, 75, 75, 79, 77, 76, 71, 75, 74, 69, 71, 76, 72, 72, 70, 72, 73, 71, 72, 71, 73, 72, 73, 74, 74, 72, 75, 74, 74, 77, 75, 73, 72, 71, 74, 77, 75, 75, 75, 78, 78, 74, 76, 78, 76, 70, 72, 80, 74, 74, 71, 70, 72, 71, 74, 71, 72, 71, 74, 69, 76, 75, 75, 76, 73, 76, 73, 77, 73, 72, 72, 77, 77, 71, 74, 74, 73, 78, 75, 73, 70, 74, 72, 73, 73, 75, 75, 74, 76, 73, 74, 75, 75, 72, 73, 73, 72, 74, 78, 76, 73, 74, 75, 70, 75, 71, 72, 78, 75, 73, 73, 71, 75, 77, 72, 69, 73, 74, 72, 70, 75, 70, 72, 72, 74, 73, 74, 76, 75, 80, 72, 75, 73, 74, 74, 73, 75, 75, 71, 73, 75, 74, 74, 72, 74, 74, 74, 73, 76, 75, 72, 73, 73, 73, 72, 72, 72, 72, 71, 75, 75, 74, 73, 75, 79, 74, 76, 73, 74, 74, 72, 74, 74, 75, 78, 74, 74, 74, 77, 70, 73, 74, 73, 71, 75, 71, 72, 77, 74, 70, 77, 73, 72, 76, 71, 76, 78, 75, 73, 78, 74, 79, 75, 76, 72, 75, 75, 70, 72, 70, 74, 71, 76, 73, 76, 71, 69, 72, 72, 69, 73, 69, 73, 74, 74, 72, 71, 72, 72, 76, 76, 76, 74, 76, 75, 71, 72, 71, 73, 75, 76, 75, 71, 75, 74, 72, 73, 73, 73, 73, 76, 72, 76, 73, 73, 73, 75, 75, 77, 73, 72, 75, 70, 74, 72, 80, 71, 71, 74, 74, 73, 75, 76, 73, 77, 72, 73, 77, 76, 71, 75, 73, 74, 77, 71, 72, 73, 69, 73, 70, 74, 76, 73, 73, 75, 73, 79, 74, 73, 74, 77, 75, 74, 73, 77, 73, 77, 74, 74, 73, 77, 74, 77, 75, 77, 75, 71, 74, 70, 79, 72, 72, 70, 74, 74, 72, 73, 72, 74, 74, 76, 82, 74, 74, 70, 73, 73, 74, 77, 72, 76, 73, 73, 72, 74, 74, 71, 72, 75, 74, 74, 77, 70, 71, 73, 76, 71, 75, 74, 72, 76, 79, 76, 73, 76, 78, 75, 76, 72, 72, 73, 73, 75, 71, 76, 70, 75, 74, 75, 73, 71, 71, 72, 73, 73, 72, 69, 73, 78, 71, 73, 75, 76, 70, 74, 77, 75, 79, 72, 77, 73, 75, 75, 75, 73, 73, 76, 77, 75, 70, 71, 71, 75, 74, 69, 70, 75, 72, 75, 73, 72, 72, 72, 76, 75, 74, 69, 73, 72, 72, 75, 77, 76, 80, 77, 76, 79, 71, 75, 73, 76, 77, 73, 76, 70, 75, 73, 75, 70, 69, 71, 72, 72, 73, 70, 70, 73, 76, 75, 72, 73, 79, 71, 72, 74, 74, 74, 72, 76, 76, 72, 72, 71, 72, 72, 70, 77, 74, 72, 76, 71, 76, 71, 73, 70, 73, 73, 72, 71, 71, 71, 72, 72, 74, 74, 74, 71, 72, 75, 72, 71, 72, 72, 72, 72, 74, 74, 77, 75, 73, 75, 73, 76, 72, 77, 75, 72, 71, 71, 75, 72, 73, 73, 71, 70, 75, 71, 76, 73, 68, 71, 72, 74, 77, 72, 76, 78, 81, 72, 73, 76, 72, 72, 74, 76, 73, 76, 75, 70, 71, 74, 72, 73, 76, 76, 73, 71, 68, 71, 71, 74, 77, 69, 72, 76, 75, 76, 75, 76, 72, 74, 76, 74, 72, 75, 78, 77, 70, 72, 79, 74, 71, 68, 77, 75, 71, 72, 70, 72, 72, 73, 72, 74, 72, 72, 75, 72, 73, 74, 72, 78, 75, 72, 74, 75, 75, 76, 74, 74, 73, 74, 71, 74, 75, 76, 74, 76, 76, 73, 75, 75, 74, 68, 72, 75, 71, 70, 72, 73, 72, 75, 74, 70, 76, 71, 82, 72, 73, 74, 71, 75, 77, 72, 74, 72, 73, 78, 77, 73, 73, 73, 73, 73, 76, 75, 70, 73, 72, 73, 75, 74, 73, 73, 76, 73, 75, 70, 77, 72, 77, 74, 75, 75, 75, 75, 72, 74, 71, 76, 71, 75, 76, 83, 75, 74, 76, 72, 72, 75, 75, 72, 77, 73, 72, 70, 74, 72, 74, 72, 71, 70, 71, 76, 74, 76, 74, 74, 74, 75, 75, 71, 71, 74, 77, 71, 74, 75, 77, 76, 74, 76, 72, 71, 72, 75, 73, 68, 72, 69, 73, 73, 75, 70, 70, 74, 75, 74, 74, 73, 74, 75, 77, 73, 74, 76, 74, 75, 73, 76, 78, 75, 73, 77, 74, 72, 74, 72, 71, 73, 75, 73, 67, 67, 76, 74, 73, 70, 75, 70, 72, 77, 79, 78, 74, 75, 75, 78, 76, 75, 69, 75, 72, 75, 73, 74, 75, 75, 73]\n",
    "np_alturas = np.array(alturas)\n",
    "print(np_alturas)\n",
    "np_alturas_m=convertir_pulgadas_a_metros(np_alturas)\n",
    "print(np_alturas_m)"
   ]
  },
  {
   "cell_type": "code",
   "execution_count": 17,
   "metadata": {},
   "outputs": [
    {
     "name": "stdout",
     "output_type": "stream",
     "text": [
      "1.9 ms ± 148 µs per loop (mean ± std. dev. of 7 runs, 100 loops each)\n"
     ]
    }
   ],
   "source": [
    "# medimos el tiempo que tarda el cálculo de pulgadas a metros utilizando el cáĺculo tradicional\n",
    "%timeit convertir_pulgadas_a_metros(np_alturas)"
   ]
  },
  {
   "cell_type": "code",
   "execution_count": 18,
   "metadata": {},
   "outputs": [
    {
     "name": "stdout",
     "output_type": "stream",
     "text": [
      "2.1 µs ± 58.4 ns per loop (mean ± std. dev. of 7 runs, 100000 loops each)\n"
     ]
    }
   ],
   "source": [
    "# medimos el tiempo que tarda el cálculo de pulgadas a metros utilizando operaciones vectorizadas\n",
    "%timeit (np_alturas * 0.0254) "
   ]
  },
  {
   "cell_type": "markdown",
   "metadata": {},
   "source": [
    "### Índice de Masa Corporal (IMC) del jugador de béisbol\n",
    "La MLB también le ofrece analizar sus datos de peso. De nuevo, ambos están disponibles como listas regulares de Python: *alturas* y *pesos*. la altura está en pulgadas y el peso está en libras.\n",
    "Ahora es posible calcular el IMC de cada jugador de béisbol. El código de Python para convertir la altura a una matriz numpy con las unidades correctas ya está disponible en el espacio de trabajo. \n",
    "\n",
    "$Instrucciones$\n",
    "- Crear un arreglo np_pesos a partir de la lista pesos.\n",
    "- Crear una función convertir_libras_a_kg, que reciba el arreglo np_pesos, y devuelva un arreglo con el peso expresado en kilogramos, para ello deberá multiplicar cada componente por 0.45359. Almacenar el resultado en el arreglo np_pesos_kg.\n",
    "- Escribir una función para calcular el IMC de cada jugador, denominada *calcular_imc*, la función deberá recibir los arreglos np_alturas_m y np_pesos_kg, y devolver un nuevo arreglo con el cálculo del IMC, para obtenerlos deberá aplicar la fórmula: \n",
    "$$IMC=\\frac{peso(kg)}{altura(m)^2}$$\n",
    "- Guardar el resultado en el arreglo IMC. \n",
    "- Imprimir el arreglo IMC.\n",
    "- Medir el tiempo necesario para calcular el IMC a través de la función *calcular_imc*.\n",
    "- Medir el tiempo necesario para el cálculo del IMC usando la operación *vectorizada*: $$IMC=\\frac{peso(kg)}{altura(m)^2}$$ "
   ]
  },
  {
   "cell_type": "code",
   "execution_count": null,
   "metadata": {},
   "outputs": [],
   "source": [
    "def convertir_libras_a_kg(arreglo):\n",
    "    salida = np.empty(len(arreglo))\n",
    "    for i in range(len(arreglo)):\n",
    "        salida[i]=arreglo[i]*0.45359\n",
    "    return salida\n",
    "\n",
    "def calcular_imc(arreglo_pesos, arreglo_alturas):\n",
    "    salida = np.empty(len(arreglo_pesos))\n",
    "    for i in range(len(arreglo_pesos)):\n",
    "        salida[i] = arreglo_pesos[i]/arreglo_alturas[i]**2\n",
    "    return salida\n",
    "\n",
    "pesos = [180, 215, 210, 210, 188, 176, 209, 200, 231, 180, 188, 180, 185, 160, 180, 185, 189, 185, 219, 230, 205, 230, 195, 180, 192, 225, 203, 195, 182, 188, 200, 180, 200, 200, 245, 240, 215, 185, 175, 199, 200, 215, 200, 205, 206, 186, 188, 220, 210, 195, 200, 200, 212, 224, 210, 205, 220, 195, 200, 260, 228, 270, 200, 210, 190, 220, 180, 205, 210, 220, 211, 200, 180, 190, 170, 230, 155, 185, 185, 200, 225, 225, 220, 160, 205, 235, 250, 210, 190, 160, 200, 205, 222, 195, 205, 220, 220, 170, 185, 195, 220, 230, 180, 220, 180, 180, 170, 210, 215, 200, 213, 180, 192, 235, 185, 235, 210, 222, 210, 230, 220, 180, 190, 200, 210, 194, 180, 190, 240, 200, 198, 200, 195, 210, 220, 190, 210, 225, 180, 185, 170, 185, 185, 180, 178, 175, 200, 204, 211, 190, 210, 190, 190, 185, 290, 175, 185, 200, 220, 170, 220, 190, 220, 205, 200, 250, 225, 215, 210, 215, 195, 200, 194, 220, 180, 180, 170, 195, 180, 170, 206, 205, 200, 225, 201, 225, 233, 180, 225, 180, 220, 180, 237, 215, 190, 235, 190, 180, 165, 195, 200, 190, 190, 185, 185, 205, 190, 205, 206, 220, 208, 170, 195, 210, 190, 211, 230, 170, 185, 185, 241, 225, 210, 175, 230, 200, 215, 198, 226, 278, 215, 230, 240, 184, 219, 170, 218, 190, 225, 220, 176, 190, 197, 204, 167, 180, 195, 220, 215, 185, 190, 205, 205, 200, 210, 215, 200, 205, 211, 190, 208, 200, 210, 232, 230, 210, 220, 210, 202, 212, 225, 170, 190, 200, 237, 220, 170, 193, 190, 150, 220, 200, 190, 185, 185, 200, 172, 220, 225, 190, 195, 219, 190, 197, 200, 195, 210, 177, 220, 235, 180, 195, 195, 190, 230, 190, 200, 190, 190, 200, 200, 184, 200, 180, 219, 187, 200, 220, 205, 190, 170, 160, 215, 175, 205, 200, 214, 200, 190, 180, 205, 220, 190, 215, 235, 191, 200, 181, 200, 210, 240, 185, 165, 190, 185, 175, 155, 210, 170, 175, 220, 210, 205, 200, 205, 195, 240, 150, 200, 215, 202, 200, 190, 205, 190, 160, 215, 185, 200, 190, 210, 185, 220, 190, 202, 205, 220, 175, 160, 190, 200, 229, 206, 220, 180, 195, 175, 188, 230, 190, 200, 190, 219, 235, 180, 180, 180, 200, 234, 185, 220, 223, 200, 210, 200, 210, 190, 177, 227, 180, 195, 199, 175, 185, 240, 210, 180, 194, 225, 180, 205, 193, 230, 230, 220, 200, 249, 190, 208, 245, 250, 160, 192, 220, 170, 197, 155, 190, 200, 220, 210, 228, 190, 160, 184, 180, 180, 200, 176, 160, 222, 211, 195, 200, 175, 206, 240, 185, 260, 185, 221, 205, 200, 170, 201, 205, 185, 205, 245, 220, 210, 220, 185, 175, 170, 180, 200, 210, 175, 220, 206, 180, 210, 195, 200, 200, 164, 180, 220, 195, 205, 170, 240, 210, 195, 200, 205, 192, 190, 170, 240, 200, 205, 175, 250, 220, 224, 210, 195, 180, 245, 175, 180, 215, 175, 180, 195, 230, 230, 205, 215, 195, 180, 205, 180, 190, 180, 190, 190, 220, 210, 255, 190, 230, 200, 205, 210, 225, 215, 220, 205, 200, 220, 197, 225, 187, 245, 185, 185, 175, 200, 180, 188, 225, 200, 210, 245, 213, 231, 165, 228, 210, 250, 191, 190, 200, 215, 254, 232, 180, 215, 220, 180, 200, 170, 195, 210, 200, 220, 165, 180, 200, 200, 170, 224, 220, 180, 198, 240, 239, 185, 210, 220, 200, 195, 220, 230, 170, 220, 230, 165, 205, 192, 210, 205, 200, 210, 185, 195, 202, 205, 195, 180, 200, 185, 240, 185, 220, 205, 205, 180, 201, 190, 208, 240, 180, 230, 195, 215, 190, 195, 215, 215, 220, 220, 230, 195, 190, 195, 209, 204, 170, 185, 205, 175, 210, 190, 180, 180, 160, 235, 200, 210, 180, 190, 197, 203, 205, 170, 200, 250, 200, 220, 200, 190, 170, 190, 220, 215, 206, 215, 185, 235, 188, 230, 195, 168, 190, 160, 200, 200, 189, 180, 190, 200, 220, 187, 240, 190, 180, 185, 210, 220, 219, 190, 193, 175, 180, 215, 210, 200, 190, 185, 220, 170, 195, 205, 195, 210, 190, 190, 180, 220, 190, 186, 185, 190, 180, 190, 170, 210, 240, 220, 180, 210, 210, 195, 160, 180, 205, 200, 185, 245, 190, 210, 200, 200, 222, 215, 240, 170, 220, 156, 190, 202, 221, 200, 190, 210, 190, 200, 165, 190, 185, 230, 208, 209, 175, 180, 200, 205, 200, 250, 210, 230, 244, 202, 240, 200, 215, 177, 210, 170, 215, 217, 198, 200, 220, 170, 200, 230, 231, 183, 192, 167, 190, 180, 180, 215, 160, 205, 223, 175, 170, 190, 240, 175, 230, 223, 196, 167, 195, 190, 250, 190, 190, 190, 170, 160, 150, 225, 220, 209, 210, 176, 260, 195, 190, 184, 180, 195, 195, 219, 225, 212, 202, 185, 200, 209, 200, 195, 228, 210, 190, 212, 190, 218, 220, 190, 235, 210, 200, 188, 210, 235, 188, 215, 216, 220, 180, 185, 200, 210, 220, 185, 231, 210, 195, 200, 205, 200, 190, 250, 185, 180, 170, 180, 208, 235, 215, 244, 220, 185, 230, 190, 200, 180, 190, 196, 180, 230, 224, 160, 178, 205, 185, 210, 180, 190, 200, 257, 190, 220, 165, 205, 200, 208, 185, 215, 170, 235, 210, 170, 180, 170, 190, 150, 230, 203, 260, 246, 186, 210, 198, 210, 215, 180, 200, 245, 200, 192, 192, 200, 192, 205, 190, 186, 170, 197, 219, 200, 220, 207, 225, 207, 212, 225, 170, 190, 210, 230, 210, 200, 238, 234, 222, 200, 190, 170, 220, 223, 210, 215, 196, 175, 175, 189, 205, 210, 180, 180, 197, 220, 228, 190, 204, 165, 216, 220, 208, 210, 215, 195, 200, 215, 229, 240, 207, 205, 208, 185, 190, 170, 208, 225, 190, 225, 185, 180, 165, 240, 220, 212, 163, 215, 175, 205, 210, 205, 208, 215, 180, 200, 230, 211, 230, 190, 220, 180, 205, 190, 180, 205, 190, 195]\n",
    "np_pesos=np.array(pesos)\n",
    "np_pesos_kg = convertir_libras_a_kg(np_pesos)\n",
    "print(np_pesos_kg)\n",
    "IMC = calcular_imc(np_pesos_kg, np_alturas_m)\n",
    "print(IMC)\n",
    "IMC_V = np_pesos_kg/np_alturas_m**2\n",
    "print(IMC_V)"
   ]
  },
  {
   "cell_type": "code",
   "execution_count": 26,
   "metadata": {},
   "outputs": [
    {
     "name": "stdout",
     "output_type": "stream",
     "text": [
      "482 µs ± 8.83 µs per loop (mean ± std. dev. of 7 runs, 1000 loops each)\n"
     ]
    }
   ],
   "source": [
    "#medimos tiempo de ejecución de la función calcular_imc\n",
    "%timeit calcular_imc(np_pesos_kg, np_altura_m)"
   ]
  },
  {
   "cell_type": "code",
   "execution_count": 29,
   "metadata": {},
   "outputs": [
    {
     "name": "stdout",
     "output_type": "stream",
     "text": [
      "3.25 µs ± 51.1 ns per loop (mean ± std. dev. of 7 runs, 100000 loops each)\n"
     ]
    }
   ],
   "source": [
    "#medimos el tiempo de ejecución usando la fórmula del IMC vectorizada\n",
    "%timeit (np_pesos_kg/np_alturas_m**2)"
   ]
  },
  {
   "cell_type": "markdown",
   "metadata": {},
   "source": [
    "En el siguiente ejemplo hemos intentado reunir en una función el cálculo de los valores de altura y peso, dados en pulgadas y libras respectivamente, para luego convertirlos en a metros y kilogramos. Se simulan dos arreglos cargados en usando la función *random* de NumPy. "
   ]
  },
  {
   "cell_type": "code",
   "execution_count": 18,
   "metadata": {},
   "outputs": [],
   "source": [
    "import numpy as np\n",
    "def conversion(arreglo_city, factor, cantidad):\n",
    "    salida = np.empty(cantidad*2).reshape(arreglo_city.shape)\n",
    "    for i in range(cantidad):\n",
    "       for j in range(2):  \n",
    "           salida[i][j]=arreglo_city[i][j]*factor[j]\n",
    "    return salida\n",
    "\n",
    "\n",
    "np.random.seed(0)\n",
    "cantidad=5000\n",
    "#numpy.random.normal toma tres parámetros (media, desviación, cantidad)\n",
    "height = np.round(np.random.normal(1.75, 0.20, cantidad), 2)\n",
    "weight = np.round(np.random.normal(60.32, 15, cantidad), 2)\n",
    "np_city = np.column_stack((height, weight))\n",
    "np_conversion = np.array([0.0254, 0.453592])"
   ]
  },
  {
   "cell_type": "code",
   "execution_count": 19,
   "metadata": {},
   "outputs": [
    {
     "name": "stdout",
     "output_type": "stream",
     "text": [
      "6.18 ms ± 99.4 µs per loop (mean ± std. dev. of 7 runs, 100 loops each)\n"
     ]
    }
   ],
   "source": [
    "%timeit conversion(np_city, np_conversion, len(height))"
   ]
  },
  {
   "cell_type": "code",
   "execution_count": 20,
   "metadata": {},
   "outputs": [
    {
     "name": "stdout",
     "output_type": "stream",
     "text": [
      "33.9 µs ± 120 ns per loop (mean ± std. dev. of 7 runs, 10000 loops each)\n"
     ]
    }
   ],
   "source": [
    "%timeit (np_city * np_conversion)"
   ]
  },
  {
   "cell_type": "code",
   "execution_count": 21,
   "metadata": {},
   "outputs": [],
   "source": [
    "cantidad=10000\n",
    "height = np.round(np.random.normal(1.75, 0.20, cantidad), 2)\n",
    "weight = np.round(np.random.normal(60.32, 15, cantidad), 2)\n",
    "np_city = np.column_stack((height, weight))"
   ]
  },
  {
   "cell_type": "code",
   "execution_count": 22,
   "metadata": {},
   "outputs": [
    {
     "name": "stdout",
     "output_type": "stream",
     "text": [
      "12.3 ms ± 175 µs per loop (mean ± std. dev. of 7 runs, 100 loops each)\n"
     ]
    }
   ],
   "source": [
    "%timeit conversion(np_city, np_conversion, len(height))"
   ]
  },
  {
   "cell_type": "code",
   "execution_count": 23,
   "metadata": {},
   "outputs": [
    {
     "name": "stdout",
     "output_type": "stream",
     "text": [
      "67.5 µs ± 306 ns per loop (mean ± std. dev. of 7 runs, 10000 loops each)\n"
     ]
    }
   ],
   "source": [
    "%timeit (np_city * np_conversion)"
   ]
  },
  {
   "cell_type": "code",
   "execution_count": 24,
   "metadata": {},
   "outputs": [],
   "source": [
    "cantidad=20000\n",
    "height = np.round(np.random.normal(1.75, 0.20, cantidad), 2)\n",
    "weight = np.round(np.random.normal(60.32, 15, cantidad), 2)\n",
    "np_city = np.column_stack((height, weight))"
   ]
  },
  {
   "cell_type": "code",
   "execution_count": 25,
   "metadata": {},
   "outputs": [
    {
     "name": "stdout",
     "output_type": "stream",
     "text": [
      "24.5 ms ± 286 µs per loop (mean ± std. dev. of 7 runs, 10 loops each)\n"
     ]
    }
   ],
   "source": [
    "%timeit conversion(np_city, np_conversion, len(height))"
   ]
  },
  {
   "cell_type": "code",
   "execution_count": 26,
   "metadata": {},
   "outputs": [
    {
     "name": "stdout",
     "output_type": "stream",
     "text": [
      "134 µs ± 898 ns per loop (mean ± std. dev. of 7 runs, 10000 loops each)\n"
     ]
    }
   ],
   "source": [
    "%timeit (np_city * np_conversion)"
   ]
  },
  {
   "cell_type": "code",
   "execution_count": 28,
   "metadata": {},
   "outputs": [],
   "source": [
    "cantidad=50000\n",
    "height = np.round(np.random.normal(1.75, 0.20, cantidad), 2)\n",
    "weight = np.round(np.random.normal(60.32, 15, cantidad), 2)\n",
    "np_city = np.column_stack((height, weight))"
   ]
  },
  {
   "cell_type": "code",
   "execution_count": 29,
   "metadata": {},
   "outputs": [
    {
     "name": "stdout",
     "output_type": "stream",
     "text": [
      "62.3 ms ± 1.19 ms per loop (mean ± std. dev. of 7 runs, 10 loops each)\n"
     ]
    }
   ],
   "source": [
    "%timeit conversion(np_city, np_conversion, len(height))"
   ]
  },
  {
   "cell_type": "code",
   "execution_count": 30,
   "metadata": {},
   "outputs": [
    {
     "name": "stdout",
     "output_type": "stream",
     "text": [
      "348 µs ± 10.5 µs per loop (mean ± std. dev. of 7 runs, 1000 loops each)\n"
     ]
    }
   ],
   "source": [
    "%timeit (np_city * np_conversion)"
   ]
  },
  {
   "cell_type": "code",
   "execution_count": 31,
   "metadata": {},
   "outputs": [],
   "source": [
    "cantidad=100000\n",
    "height = np.round(np.random.normal(1.75, 0.20, cantidad), 2)\n",
    "weight = np.round(np.random.normal(60.32, 15, cantidad), 2)\n",
    "np_city = np.column_stack((height, weight))"
   ]
  },
  {
   "cell_type": "code",
   "execution_count": 32,
   "metadata": {},
   "outputs": [
    {
     "name": "stdout",
     "output_type": "stream",
     "text": [
      "124 ms ± 1.31 ms per loop (mean ± std. dev. of 7 runs, 10 loops each)\n"
     ]
    }
   ],
   "source": [
    "%timeit conversion(np_city, np_conversion, len(height))"
   ]
  },
  {
   "cell_type": "code",
   "execution_count": 33,
   "metadata": {},
   "outputs": [
    {
     "name": "stdout",
     "output_type": "stream",
     "text": [
      "687 µs ± 7.23 µs per loop (mean ± std. dev. of 7 runs, 1000 loops each)\n"
     ]
    }
   ],
   "source": [
    "%timeit (np_city * np_conversion)"
   ]
  },
  {
   "cell_type": "code",
   "execution_count": 34,
   "metadata": {},
   "outputs": [],
   "source": [
    "cantidad=1000000\n",
    "height = np.round(np.random.normal(1.75, 0.20, cantidad), 2)\n",
    "weight = np.round(np.random.normal(60.32, 15, cantidad), 2)\n",
    "np_city = np.column_stack((height, weight))"
   ]
  },
  {
   "cell_type": "code",
   "execution_count": 35,
   "metadata": {},
   "outputs": [
    {
     "name": "stdout",
     "output_type": "stream",
     "text": [
      "1.25 s ± 13.9 ms per loop (mean ± std. dev. of 7 runs, 1 loop each)\n"
     ]
    }
   ],
   "source": [
    "%timeit conversion(np_city, np_conversion, len(height))"
   ]
  },
  {
   "cell_type": "code",
   "execution_count": 36,
   "metadata": {},
   "outputs": [
    {
     "name": "stdout",
     "output_type": "stream",
     "text": [
      "10.1 ms ± 104 µs per loop (mean ± std. dev. of 7 runs, 100 loops each)\n"
     ]
    }
   ],
   "source": [
    "%timeit (np_city * np_conversion)"
   ]
  },
  {
   "cell_type": "markdown",
   "metadata": {},
   "source": [
    "# Comparasiones, Máscaras y Lógica booleana aprlicada a arreglos NumPy"
   ]
  },
  {
   "cell_type": "markdown",
   "metadata": {},
   "source": [
    "Veremos ahora el uso de máscaras booleanas para examinar y manipular valores de los elementos de arreglos de NumPy.\n",
    "Se usa el enmascaramiento cuando desea extraer, modificar, contar o manipular de algún modo los valores de un arreglo en función de algún criterio: por ejemplo, es posible que desee contar todos los valores superiores a un determinado valor, o quizás eliminar todos los valores atípicos que están por encima de algún límite.\n",
    "En NumPy, el enmascaramiento booelano es la forma más eficiente de realizar este tipo de tareas."
   ]
  },
  {
   "cell_type": "markdown",
   "metadata": {},
   "source": [
    "## Ejemplo: Countar los días de lluvia durante un año\n",
    "Tenemos en un archivo los valores de precipitación registrados para cada día durante un año entero en una ciudad determinada.\n",
    "Por ejemplo, aquí cargaremos las estadísticas de lluvia diarias para la ciudad de Seattle en el año 2014, usando la librería Pandas."
   ]
  },
  {
   "cell_type": "code",
   "execution_count": 25,
   "metadata": {
    "collapsed": false
   },
   "outputs": [
    {
     "name": "stdout",
     "output_type": "stream",
     "text": [
      "[0.         0.16141732 0.05905512 0.         0.         0.01181102\n",
      " 0.48031496 0.38188976 0.22834646 0.16929134 0.83858268 0.05905512\n",
      " 0.         0.         0.         0.         0.         0.\n",
      " 0.         0.         0.         0.01968504 0.         0.\n",
      " 0.         0.         0.         0.3503937  0.8503937  0.\n",
      " 0.09055118 0.07874016 0.         0.         0.         0.\n",
      " 0.         0.         0.2007874  0.01968504 0.72047244 0.66929134\n",
      " 0.18110236 0.07086614 0.37007874 0.46062992 1.03937008 0.57086614\n",
      " 0.5984252  0.03937008 0.11811024 0.11023622 0.0984252  0.24015748\n",
      " 0.51181102 0.01181102 0.         0.         0.         0.01968504\n",
      " 0.7519685  0.42125984 0.6496063  1.83858268 0.11811024 0.\n",
      " 1.27165354 0.16929134 0.74015748 0.         0.         0.01968504\n",
      " 0.27165354 0.31889764 1.09055118 0.01181102 0.         0.01968504\n",
      " 0.         0.         0.         0.         0.         0.16141732\n",
      " 0.14173228 0.01181102 0.87007874 0.5511811  0.         0.\n",
      " 0.         0.         0.0984252  0.         0.18110236 0.\n",
      " 0.         0.18110236 0.         0.         0.         0.\n",
      " 0.         0.         0.01968504 0.42913386 0.72834646 0.\n",
      " 0.53937008 0.         0.2007874  0.55905512 0.3503937  0.48818898\n",
      " 0.         0.12992126 0.27165354 0.         0.         0.\n",
      " 0.         0.         1.31102362 0.62992126 0.2007874  0.\n",
      " 0.         0.53937008 0.07874016 0.01968504 0.         0.\n",
      " 0.         0.         0.         0.         0.         0.\n",
      " 0.         0.         0.         0.         0.1496063  0.\n",
      " 0.22047244 0.         0.         0.         0.         0.\n",
      " 0.         0.         0.         0.         0.         0.\n",
      " 0.         0.         0.         0.         0.         0.\n",
      " 0.07086614 0.2519685  0.         0.01968504 0.14173228 0.0511811\n",
      " 0.         0.03149606 0.01181102 0.         0.         0.\n",
      " 0.         0.         0.         0.07086614 0.09055118 0.\n",
      " 0.         0.         0.         0.         0.         0.\n",
      " 0.         0.         0.         0.         0.         0.\n",
      " 0.         0.         0.         0.         0.         0.\n",
      " 0.         0.         0.         0.         0.01181102 0.75984252\n",
      " 0.         0.         0.         0.         0.         0.\n",
      " 0.         0.         0.         0.01968504 0.         0.\n",
      " 0.         0.         0.         0.         0.         0.\n",
      " 0.01968504 0.5        0.8503937  0.         0.03937008 0.\n",
      " 0.         0.         0.         0.         0.         0.\n",
      " 0.         0.         0.         0.         0.         0.\n",
      " 0.         0.33070866 0.0511811  0.         0.11811024 0.\n",
      " 0.         0.         0.         0.         0.         0.\n",
      " 0.         0.         0.         0.         0.         0.\n",
      " 0.         0.01968504 0.01181102 0.         0.         0.\n",
      " 0.01181102 0.72047244 0.7992126  0.16929134 0.3503937  0.\n",
      " 0.         0.03149606 0.         0.         0.         0.\n",
      " 0.         0.         0.         0.         0.         0.\n",
      " 0.01181102 0.29133858 0.         0.2992126  0.27952756 0.33858268\n",
      " 0.         0.12992126 0.59055118 0.         0.46062992 0.03937008\n",
      " 1.25984252 0.37007874 0.16141732 0.24015748 0.05905512 0.03149606\n",
      " 0.5        0.01968504 1.         0.66929134 0.         0.07086614\n",
      " 0.42913386 0.16141732 0.18897638 0.16141732 0.         0.\n",
      " 0.2007874  0.         0.         0.         0.         0.\n",
      " 0.         0.         0.         0.         0.         0.14173228\n",
      " 0.5984252  0.01968504 0.46850394 0.0511811  0.72047244 0.01181102\n",
      " 0.12992126 1.3503937  0.14173228 0.         0.         0.\n",
      " 0.         0.03149606 0.11811024 0.29133858 0.         0.35826772\n",
      " 0.38976378 0.51181102 0.27165354 0.         0.         0.\n",
      " 0.         0.         0.11023622 0.51181102 0.11811024 0.77165354\n",
      " 0.         0.         0.81102362 0.20866142 0.         0.\n",
      " 0.12992126 0.16141732 0.         0.         0.        ]\n"
     ]
    }
   ],
   "source": [
    "import numpy as np\n",
    "import pandas as pd\n",
    "\n",
    "# usamos pandas para extraer las estadísticas de lluvias diarias \n",
    "# y guardarlas en un arreglo NumPy, convirtiéndolas a pulgadas.\n",
    "lluvia = pd.read_csv('data/Seattle2014.csv')['PRCP'].values\n",
    "lluvia_pulgadas = lluvia / 254.0  # 1/10mm -> inches\n",
    "print(lluvia_pulgadas)\n"
   ]
  },
  {
   "cell_type": "markdown",
   "metadata": {},
   "source": [
    "### Investigando dentro de los datos\n",
    "Una implementación para investigar dentro de los datos y responder algunas preguntas sería: recorrer con un loop todos los datos, incrementando un contador cada vez que un valor de los datos cumpla alguna condición, por ejemplo, que entren dentro de un rango deseado.\n",
    "Por razones que ya vimos anteriormente, esta implementación es muy ineficiente desde el punto de vista del tiempo de escribir el código y el tiempo para calcular el resultado. \n",
    "Hemos visto que las funciones ufuncs de NumPy se usan en lugar de los loops, ya que resuelven muy eficientemente operaciones aritméticas sobre los arreglos; del mismo modo, podemos ufuncs para realizar *comparaciones* sobre todo el arreglo, y luego manipular los resultados para contestar preguntas sobre los datos.\n",
    "Dejaremos los datos a un lado por el momento y discutiremos algunas herramientas generales en NumPy para usar *enmascaramiento* para responder rápidamente este tipo de preguntas."
   ]
  },
  {
   "cell_type": "markdown",
   "metadata": {},
   "source": [
    "## Operadores Comparasión como funciones ufuncs\n",
    "NumPy implementa operadores comparación tales como ``<`` (menor que) y``>`` (mayor que) como ufuncs para la comparación de elementos de loa arreglos de NumPy.\n",
    "El resultado de esta comparación es un nuevo arreglo de datos del tipo Booleano.\n",
    "Los seis operadores de comparación están disponibles:"
   ]
  },
  {
   "cell_type": "markdown",
   "metadata": {},
   "source": [
    "| Operador\t    | ufunc Equivalente   || Operador\t   |  ufunc Equivalente  |\n",
    "|---------------|---------------------||---------------|---------------------|\n",
    "|``==``         |``np.equal``         ||``!=``         |``np.not_equal``     |\n",
    "|``<``          |``np.less``          ||``<=``         |``np.less_equal``    |\n",
    "|``>``          |``np.greater``       ||``>=``         |``np.greater_equal`` |"
   ]
  },
  {
   "cell_type": "code",
   "execution_count": 5,
   "metadata": {
    "collapsed": true
   },
   "outputs": [],
   "source": [
    "x = np.array([1, 2, 3, 4, 5])"
   ]
  },
  {
   "cell_type": "code",
   "execution_count": 11,
   "metadata": {},
   "outputs": [
    {
     "name": "stdout",
     "output_type": "stream",
     "text": [
      "[False False False  True  True]\n"
     ]
    }
   ],
   "source": [
    "# produce un arreglo de valores booleanos\n",
    "y = x > 3\n",
    "print(y)"
   ]
  },
  {
   "cell_type": "code",
   "execution_count": 12,
   "metadata": {},
   "outputs": [
    {
     "name": "stdout",
     "output_type": "stream",
     "text": [
      "[4 5]\n"
     ]
    }
   ],
   "source": [
    "# aplicamos el arreglo booleano para obtener un nuevo arreglo\n",
    "# a partir de x, con los elementos que cumplen la condición x > 3\n",
    "z = x[y]\n",
    "print(z)"
   ]
  },
  {
   "cell_type": "markdown",
   "metadata": {},
   "source": [
    "### Contando elementos del arreglo que cumplen alguna condiciónentries\n",
    "Para contar el número de elementos verdaderos(``True``) de un arreglo booleano, se utiliza la función ``np.count_nonzero``:"
   ]
  },
  {
   "cell_type": "code",
   "execution_count": 16,
   "metadata": {
    "collapsed": false
   },
   "outputs": [
    {
     "name": "stdout",
     "output_type": "stream",
     "text": [
      "[[5 0 3 3]\n",
      " [7 9 3 5]\n",
      " [2 4 7 6]]\n"
     ]
    }
   ],
   "source": [
    "rng = np.random.RandomState(0)\n",
    "x = rng.randint(10, size=(3, 4))\n",
    "print(x)"
   ]
  },
  {
   "cell_type": "code",
   "execution_count": 17,
   "metadata": {},
   "outputs": [
    {
     "name": "stdout",
     "output_type": "stream",
     "text": [
      "[[ True  True  True  True]\n",
      " [False False  True  True]\n",
      " [ True  True False False]]\n",
      "8\n"
     ]
    }
   ],
   "source": [
    "y = x < 6\n",
    "print(y)\n",
    "print(np.count_nonzero(y))"
   ]
  },
  {
   "cell_type": "markdown",
   "metadata": {},
   "source": [
    "Hay ocho entradas en el arreglo que son menores que 6. Otra forma de obtener información es usar ``np.sum``; en este caso , ``False`` es interpretado como un  ``0``, y ``True`` es interpretado como un ``1``:"
   ]
  },
  {
   "cell_type": "code",
   "execution_count": 18,
   "metadata": {
    "collapsed": false
   },
   "outputs": [
    {
     "data": {
      "text/plain": [
       "array([4, 2, 2])"
      ]
     },
     "execution_count": 18,
     "metadata": {},
     "output_type": "execute_result"
    }
   ],
   "source": [
    "# cuantos valores menores que 6 hay en cada fila?\n",
    "np.sum(x < 6, axis=1)"
   ]
  },
  {
   "cell_type": "markdown",
   "metadata": {},
   "source": [
    "### Operadores booleanos\n",
    "Retomando el ejemplo del registro de lluvias durante cada día del año 2014 para la ciudad de Seattle, ahora vamos a calcular:\n",
    "- cantidad de días con lluvia menor a cuatro pulgadas\n",
    "- cantidad de días con lluvia mayor a dos pulgadas."
   ]
  },
  {
   "cell_type": "code",
   "execution_count": 27,
   "metadata": {},
   "outputs": [
    {
     "name": "stdout",
     "output_type": "stream",
     "text": [
      "365\n"
     ]
    }
   ],
   "source": [
    "# cantidad de días con lluvia menor a cuatro pulgadas\n",
    "print(np.count_nonzero(lluvia_pulgadas<4))"
   ]
  },
  {
   "cell_type": "code",
   "execution_count": 26,
   "metadata": {},
   "outputs": [
    {
     "name": "stdout",
     "output_type": "stream",
     "text": [
      "7\n"
     ]
    }
   ],
   "source": [
    "# cantidad de días con lluvia mayor a dos pulgadas.\n",
    "print(np.count_nonzero(lluvia_pulgadas>1))"
   ]
  },
  {
   "cell_type": "markdown",
   "metadata": {},
   "source": [
    "Ahora queremos saber los días en los que la lluvia es menor a cuatro pulgadas y más de una pulgada.\n",
    "Para logralo se utilizan los operadores lógicos de Python, ``&``, ``|``, ``^``, y ``~``.\n",
    "Como con los operadores aritméticos estándar, Numpy sobrecarga estos como ufuncs para trabajar sobre los arreglos booleanos."
   ]
  },
  {
   "cell_type": "code",
   "execution_count": 28,
   "metadata": {
    "collapsed": false
   },
   "outputs": [
    {
     "data": {
      "text/plain": [
       "29"
      ]
     },
     "execution_count": 28,
     "metadata": {},
     "output_type": "execute_result"
    }
   ],
   "source": [
    "np.sum((lluvia_pulgadas > 0.5) & (lluvia_pulgadas < 1))"
   ]
  },
  {
   "cell_type": "markdown",
   "metadata": {},
   "source": [
    "El resultado indica que durante el año, 29 días se registraron lluvias entre 0.5 y 1 pulgada.\n",
    "Usando la equivalencia entre *A AND B* y *NOT (NOT A OR NOT B)* , podemos calcular el mismo resultado."
   ]
  },
  {
   "cell_type": "code",
   "execution_count": 30,
   "metadata": {
    "collapsed": false
   },
   "outputs": [
    {
     "data": {
      "text/plain": [
       "29"
      ]
     },
     "execution_count": 30,
     "metadata": {},
     "output_type": "execute_result"
    }
   ],
   "source": [
    "np.sum(~( (lluvia_pulgadas <= 0.5) | (lluvia_pulgadas >= 1) ))"
   ]
  },
  {
   "cell_type": "markdown",
   "metadata": {},
   "source": [
    "La siguiente tabla muestra los operadores booleanos y su ufuncs equivalentes:"
   ]
  },
  {
   "cell_type": "markdown",
   "metadata": {},
   "source": [
    "| Operator\t    | ufunc Equivalente   || Operator\t   | ufunc Equivalente   |\n",
    "|---------------|---------------------||---------------|---------------------|\n",
    "|``&``          |``np.bitwise_and``   ||&#124;         |``np.bitwise_or``    |\n",
    "|``^``          |``np.bitwise_xor``   ||``~``          |``np.bitwise_not``   |"
   ]
  },
  {
   "cell_type": "code",
   "execution_count": null,
   "metadata": {},
   "outputs": [],
   "source": [
    "print(\"Cantidad de días sin lluvia:   \", np.sum(lluvia_pulgadas == 0))\n",
    "print(\"Cantidad de días con lluvia:   \", np.sum(lluvia_pulgadas != 0))\n",
    "print(\"Días con más de 0.5 pulgadas:  \", np.sum(lluvia_pulgadas > 0.5))\n",
    "print(\"Días con lluvia < 0.2 pulgadas:\", np.sum((lluvia_pulgadas> 0) &\n",
    "                                                (lluvia_pulgadas < 0.2)))"
   ]
  },
  {
   "cell_type": "markdown",
   "metadata": {},
   "source": [
    "Haciendo uso del enmascaramiento, haremos algunos cálculos relevantes con los datos de las lluvias de Seattle:"
   ]
  },
  {
   "cell_type": "code",
   "execution_count": 34,
   "metadata": {
    "collapsed": false
   },
   "outputs": [
    {
     "name": "stdout",
     "output_type": "stream",
     "text": [
      "Media de las precipitaciones en el año 2014 (en pulgadas):    0.19488188976377951\n",
      "Media de las precipitaciones del verano de 2014 (en pulgadas):   0.0\n",
      "Pricipitación máxima en el verano de 2014 (en pulgadas):  0.8503937007874016\n",
      "Media de precipitaciones en estaciones, excepto verano (en pulgadas): 0.20078740157480315\n"
     ]
    }
   ],
   "source": [
    "# construimos una máscara para todos los días en los que llovió\n",
    "dias_llovio = (lluvia_pulgadas > 0)\n",
    "\n",
    "# construimos una máscara de todos los días de verano (EEUU)\n",
    "# (21 de junio es el día 172 del año)\n",
    "dias = np.arange(365)\n",
    "verano = (dias > 172) & (dias < 262)\n",
    "\n",
    "print(\"Media de las precipitaciones en el año 2014 (en pulgadas):   \",\n",
    "      np.median(lluvia_pulgadas[dias_llovio]))\n",
    "print(\"Media de las precipitaciones del verano de 2014 (en pulgadas):  \",\n",
    "      np.median(lluvia_pulgadas[verano]))\n",
    "print(\"Pricipitación máxima en el verano de 2014 (en pulgadas): \",\n",
    "      np.max(lluvia_pulgadas[verano]))\n",
    "print(\"Media de precipitaciones en estaciones, excepto verano (en pulgadas):\",\n",
    "      np.median(lluvia_pulgadas[dias_llovio & ~verano]))"
   ]
  }
 ],
 "metadata": {
  "kernelspec": {
   "display_name": "Python 3",
   "language": "python",
   "name": "python3"
  },
  "language_info": {
   "codemirror_mode": {
    "name": "ipython",
    "version": 3
   },
   "file_extension": ".py",
   "mimetype": "text/x-python",
   "name": "python",
   "nbconvert_exporter": "python",
   "pygments_lexer": "ipython3",
   "version": "3.6.5"
  }
 },
 "nbformat": 4,
 "nbformat_minor": 2
}
