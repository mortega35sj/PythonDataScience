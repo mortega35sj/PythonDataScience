{
  "cells": [
    {
      "metadata": {
        "collapsed": true
      },
      "cell_type": "markdown",
      "source": "Dada la clase Punto definida en la teoría:"
    },
    {
      "metadata": {
        "trusted": true
      },
      "cell_type": "code",
      "source": "from math import sqrt\nclass Punto:\n    __x = -1\n    __y = 0\n    def __init__(self, x = 0, y = 0):\n        self.__x = x\n        self.__y = y\n    def __str__(self):\n        return '(x,y)=({}, {})'.format(self.__x, self.__y)\n    def setX(self, v):\n        self.__x = v\n    def getX(self):\n        return self.__x\n    def setY(self, v):\n        self.__y = v\n    def getY(self):\n        return self.__y\n    def mostrarDatos(self):\n        print(self)\n    def mover(self, x, y):\n        self.setX(x)\n        self.setY(y)\n    def distanciaEuclidea(self, otroPunto):\n        distancia = sqrt((otroPunto.__x-self.__x)**2+(otroPunto.__y-self.__y)**2)\n        return distancia",
      "execution_count": null,
      "outputs": []
    },
    {
      "metadata": {},
      "cell_type": "markdown",
      "source": "Y la clase Lista, que crea una colección de objetos de la clase Punto:"
    },
    {
      "metadata": {
        "trusted": true
      },
      "cell_type": "code",
      "source": "class Lista:\n    __puntos = []\n    def __init__(self):\n        self.__puntos=[]\n    def agregarPunto(self, unPunto):\n        self.__puntos.append(unPunto)\n    def mostrarPuntos(self):\n        print('Imprimiendo puntos de la colección')\n        for punto in self.__puntos:\n            punto.mostrarDatos()\n    def testListaPuntos(self):\n        p1 = Punto(4, 5)\n        p2 = Punto(3, 4)\n        p3 = Punto(-9, 5)\n        p4 = Punto(3, 2)\n        p5 = Punto(1, 7)\n        self.agregarPunto(p1)\n        self.agregarPunto(p2)\n        self.agregarPunto(p3)\n        self.agregarPunto(p4)\n        self.agregarPunto(p5)\n    def getUnPunto(self, indice):\n        return self.__puntos[indice]\n    def calcularDistanciasP0(self, unPunto):\n        for i in range(len(self.__puntos)):\n            distancia = unPunto.distanciaEuclidea(self.__puntos[i])\n            print('Distancia del punto {} al punto {} es {}'.format(unPunto, self.__puntos[i], distancia))",
      "execution_count": null,
      "outputs": []
    },
    {
      "metadata": {
        "trusted": true,
        "scrolled": true
      },
      "cell_type": "code",
      "source": "#Programa Principal\nlistaPuntos = Lista()\nlistaPuntos.testListaPuntos()\npunto0 = listaPuntos.getUnPunto(0)\nlistaPuntos.calcularDistanciasP0(punto0)\nlistaPuntos.mostrarPuntos()",
      "execution_count": null,
      "outputs": []
    },
    {
      "metadata": {},
      "cell_type": "markdown",
      "source": "Si agregamos la siguiente sentencia:"
    },
    {
      "metadata": {
        "trusted": true
      },
      "cell_type": "code",
      "source": "unEntero=5\nlistaPuntos.agregarPunto(unEntero)",
      "execution_count": null,
      "outputs": []
    },
    {
      "metadata": {},
      "cell_type": "markdown",
      "source": "Funcionó!!! pero queríamos una lista de Puntos!!!, el resto del código funcionará???"
    },
    {
      "metadata": {
        "trusted": true
      },
      "cell_type": "code",
      "source": "punto0 = listaPuntos.getUnPunto(0)\nlistaPuntos.calcularDistanciasP0(punto0)\nlistaPuntos.mostrarPuntos()",
      "execution_count": null,
      "outputs": []
    },
    {
      "metadata": {},
      "cell_type": "markdown",
      "source": "Probá modificando el método: Lista.agregarPunto(self, unPunto), de modo que cheque el tipo de datos del objeto unPunto. \nPara hacer esto mirá las funciones: **isinstance()** y **type()**.\nAyuda: podés revisar el siguiente link https://www.geeksforgeeks.org/type-isinstance-python/"
    }
  ],
  "metadata": {
    "kernelspec": {
      "name": "python36",
      "display_name": "Python 3.6",
      "language": "python"
    },
    "language_info": {
      "mimetype": "text/x-python",
      "nbconvert_exporter": "python",
      "name": "python",
      "pygments_lexer": "ipython3",
      "version": "3.6.6",
      "file_extension": ".py",
      "codemirror_mode": {
        "version": 3,
        "name": "ipython"
      }
    }
  },
  "nbformat": 4,
  "nbformat_minor": 2
}